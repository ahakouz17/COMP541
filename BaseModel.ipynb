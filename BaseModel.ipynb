{
 "cells": [
  {
   "cell_type": "code",
   "execution_count": 1,
   "metadata": {
    "collapsed": true
   },
   "outputs": [],
   "source": [
    "using Knet"
   ]
  },
  {
   "cell_type": "code",
   "execution_count": 2,
   "metadata": {
    "collapsed": true
   },
   "outputs": [],
   "source": [
    "NOINPUTS = 1164;\n",
    "NOCONCAT = NOINPUTS * 2;\n",
    "NOOUTPUTS = 2;\n",
    "HIDDENS = Any[512, 256, 128, 128, 2]; \n",
    "NOEPOCH = 60;\n",
    "BATCHSIZE = 100;\n",
    "Atype =  Array{Float32};\n",
    "#gpu() >= 0 ? KnetArray{Float32} :"
   ]
  },
  {
   "cell_type": "code",
   "execution_count": 3,
   "metadata": {},
   "outputs": [],
   "source": [
    "w = map(Atype, [ randn(512, NOCONCAT),  zeros(512, 1), \n",
    "                  randn(256, 512), zeros(256, 1),\n",
    "                  randn(128,256),  zeros(128, 1),\n",
    "                  randn(128,128),  zeros(128, 1),\n",
    "                 randn(2,128), zeros(2,1)]);"
   ]
  },
  {
   "cell_type": "code",
   "execution_count": 4,
   "metadata": {},
   "outputs": [
    {
     "data": {
      "text/plain": [
       "predict (generic function with 1 method)"
      ]
     },
     "execution_count": 4,
     "metadata": {},
     "output_type": "execute_result"
    }
   ],
   "source": [
    "function predict(w,x)\n",
    "    for i=1:2:length(w)\n",
    "        x = w[i]*x .+ w[i+1]\n",
    "        if i<length(w)-1\n",
    "            x = max.(0,x)   ## apply RELU to all but the final layer's output                        \n",
    "        end\n",
    "    end\n",
    "    return x\n",
    "end"
   ]
  },
  {
   "cell_type": "code",
   "execution_count": 5,
   "metadata": {
    "collapsed": true
   },
   "outputs": [],
   "source": [
    "# read features for all proteins\n",
    "f = open(\"yeast_feature_all.csv\")\n",
    "lines = readlines(f);\n",
    "close(f)\n",
    "\n",
    "numberOfProteins = length(lines) #number of proteins\n",
    "featureNames = String.(split(lines[1],\",\")); # names of the features\n",
    "d = length(featureNames) - 1 # number of features per protein\n",
    "proteins = lines[2:numberOfProteins];\n",
    "featuresDict = Dict{String,Any}()\n",
    "for p in proteins\n",
    "    featureVect = String.(split(p, \",\"));\n",
    "    featuresDict[featureVect[1]] = parse.(Float32, featureVect[2:d+1])\n",
    "end"
   ]
  },
  {
   "cell_type": "code",
   "execution_count": 6,
   "metadata": {
    "collapsed": true
   },
   "outputs": [],
   "source": [
    "f = open(\"yeast_protein_pair.csv\")\n",
    "lines = readlines(f);\n",
    "close(f)\n",
    "\n",
    "n = length(lines); # number of samples/ protein pairs\n",
    "featureNames = String.(split(lines[1],\",\")); # names of the features\n",
    "samples = lines[2:n];\n",
    "\n",
    "proteinA_ID = []\n",
    "proteinA = []\n",
    "proteinB_ID = []\n",
    "proteinB = []\n",
    "concatAB = []\n",
    "ygold = []\n",
    "for s in samples\n",
    "    s = String.(split(s, \",\"));\n",
    "    push!(proteinA_ID, s[1]);\n",
    "    push!(proteinA, reshape(mat(featuresDict[s[1]]), 1, 1164));\n",
    "    push!(proteinB_ID, s[2]);\n",
    "    push!(proteinB, reshape(mat(featuresDict[s[2]]), 1, 1164))\n",
    "    push!(concatAB, hcat(reshape(mat(featuresDict[s[1]]), 1, 1164), reshape(mat(featuresDict[s[2]]), 1, 1164)))\n",
    "    push!(ygold, parse(Int64, s[3]));\n",
    "end"
   ]
  },
  {
   "cell_type": "code",
   "execution_count": 7,
   "metadata": {},
   "outputs": [
    {
     "data": {
      "text/plain": [
       "minibatchi (generic function with 1 method)"
      ]
     },
     "execution_count": 7,
     "metadata": {},
     "output_type": "execute_result"
    }
   ],
   "source": [
    "# Input X matrix and gold labels Y\n",
    "# Output list of minibatches (x, y)\n",
    "function minibatchi(X, Y, batchsize)\n",
    "    data = Any[] # You are going to fill that data array\n",
    "    # YOUR CODE STARTS HERE\n",
    "    for i = 1:batchsize:size(X, 2)\n",
    "        bl = min(i + batchsize - 1, size(X, 2))\n",
    "        push!(data, (X[:, i:bl], Y[:, i:bl]))\n",
    "    end\n",
    "    #YOUR CODE ENDS HERE\n",
    "    return data\n",
    "end"
   ]
  },
  {
   "cell_type": "code",
   "execution_count": 8,
   "metadata": {
    "collapsed": true
   },
   "outputs": [],
   "source": [
    "nosamples = size(mat(concatAB),1)\n",
    "notst = Int(floor(0.25*nosamples))\n",
    "notrn = Int(floor(0.75 * (nosamples-notst)))\n",
    "nodev = nosamples - notrn - notst\n",
    "ind = randperm(nosamples)\n",
    "\n",
    "xtrni = concatAB[ind[1:notrn]];\n",
    "xtrn = vcat(xtrni...)';\n",
    "ytrn = mat(ygold[ind[1:notrn]])';\n",
    "\n",
    "xtsti = concatAB[ind[notrn+1:notrn+notst]];\n",
    "xtst = vcat(xtsti...)';\n",
    "ytst = mat(ygold[ind[notrn+1:notrn+notst]])';\n",
    "\n",
    "xdevi = concatAB[ind[notrn+notst+1:nosamples]];\n",
    "xdev = vcat(xdevi...)';\n",
    "ydev = mat(ygold[ind[notrn+notst+1:nosamples]])';\n",
    "\n",
    "dtrn = minibatch(xtrn,ytrn,BATCHSIZE);\n",
    "ddev = minibatch(xdev,ydev,BATCHSIZE);\n",
    "dtst = minibatch(xtst,ytst,BATCHSIZE);"
   ]
  },
  {
   "cell_type": "code",
   "execution_count": 16,
   "metadata": {},
   "outputs": [
    {
     "data": {
      "text/plain": [
       "accuracy (generic function with 1 method)"
      ]
     },
     "execution_count": 16,
     "metadata": {},
     "output_type": "execute_result"
    }
   ],
   "source": [
    "function accuracy(ypred, ygold)\n",
    "    count = 0\n",
    "    for i in 1:size(ypred, 2)\n",
    "        if(ypred[1,i] >= ypred[2,i] && ygold[i]==0)\n",
    "            count +=1\n",
    "        end\n",
    "    end\n",
    "    return count/size(ypred, 2);\n",
    "end"
   ]
  },
  {
   "cell_type": "code",
   "execution_count": 29,
   "metadata": {},
   "outputs": [
    {
     "data": {
      "text/plain": [
       "0.3778245727707135"
      ]
     },
     "execution_count": 29,
     "metadata": {},
     "output_type": "execute_result"
    }
   ],
   "source": [
    "# Training Set\n",
    "ypred = predict(w,xtrn)\n",
    "accuracy(ypred, ytrn)"
   ]
  },
  {
   "cell_type": "code",
   "execution_count": 30,
   "metadata": {},
   "outputs": [
    {
     "data": {
      "text/plain": [
       "0.3814846312720204"
      ]
     },
     "execution_count": 30,
     "metadata": {},
     "output_type": "execute_result"
    }
   ],
   "source": [
    "# Test Set\n",
    "ytstpred = predict(w,xtst)\n",
    "accuracy(ytstpred, ytst)"
   ]
  },
  {
   "cell_type": "code",
   "execution_count": 32,
   "metadata": {},
   "outputs": [
    {
     "data": {
      "text/plain": [
       "0.376984126984127"
      ]
     },
     "execution_count": 32,
     "metadata": {},
     "output_type": "execute_result"
    }
   ],
   "source": [
    "# Validation Set\n",
    "ydevpred = predict(w,xdev)\n",
    "accuracy(ydevpred, ydev)"
   ]
  }
 ],
 "metadata": {
  "kernelspec": {
   "display_name": "Julia 0.6.2",
   "language": "julia",
   "name": "julia-0.6"
  },
  "language_info": {
   "file_extension": ".jl",
   "mimetype": "application/julia",
   "name": "julia",
   "version": "0.6.2"
  }
 },
 "nbformat": 4,
 "nbformat_minor": 2
}
