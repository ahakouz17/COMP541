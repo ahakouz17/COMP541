{
 "cells": [
  {
   "cell_type": "code",
   "execution_count": 1,
   "metadata": {
    "collapsed": true
   },
   "outputs": [],
   "source": [
    "using Knet, Plots, NBInclude;\n",
    "nbinclude(\"deepppiutils.ipynb\");"
   ]
  },
  {
   "cell_type": "code",
   "execution_count": 42,
   "metadata": {},
   "outputs": [],
   "source": [
    "function loaddata(pairsfilepath; Atype=gpu() >= 0 ? KnetArray{Float32} : Array{Float32})\n",
    "    pairsfile = open(pairsfilepath)\n",
    "    lines = readlines(pairsfile)\n",
    "    close(pairsfile)\n",
    "\n",
    "    samples = lines[4:end];\n",
    "    concatAB1 = []\n",
    "    ygold = Array{UInt8,1}(length(samples));\n",
    "    i = 1;\n",
    "    for s in samples\n",
    "        s = split(s, \"\\t\");\n",
    "        ygold[i] = parse(UInt8, s[7]) + 0x01;\n",
    "        s = parse.(Float32, s[3:end-1]);\n",
    "        push!(concatAB1, reshape(s, 1, 4))\n",
    "        i += 1;\n",
    "    end\n",
    "    concatAB = vcat(map(Atype, concatAB1)...)\n",
    "    return concatAB, ygold\n",
    "end;"
   ]
  },
  {
   "cell_type": "code",
   "execution_count": 43,
   "metadata": {
    "collapsed": true
   },
   "outputs": [],
   "source": [
    "function trn_tst_split(data, ygold, trnper, tstper; batchsize=64)\n",
    "    nosamples = size(data,1)\n",
    "    notrn = Int(floor(trnper * nosamples))\n",
    "    notst = nosamples - notrn\n",
    "    ind = randperm(nosamples)\n",
    "    \n",
    "    xtrn = data[ind[1:notrn],:];\n",
    "    ytrn = ygold[ind[1:notrn]];\n",
    "    \n",
    "    xtst = data[ind[notrn+1:notrn+notst], :];\n",
    "    ytst = ygold[ind[notrn+1:notrn+notst]];\n",
    "    \n",
    "    dtrn = minibatchi(xtrn',ytrn,batchsize);\n",
    "    dtst = minibatchi(xtst',ytst,batchsize);\n",
    "    \n",
    "    return dtrn, dtst\n",
    "end;"
   ]
  },
  {
   "cell_type": "code",
   "execution_count": 44,
   "metadata": {},
   "outputs": [],
   "source": [
    "humangoldfile = \"test_datasets/Human/human_gold.tab\";\n",
    "humansilverfile = \"test_datasets/Human/human_silver.tab\";\n",
    "humanallfile = \"test_datasets/Human/human_all.tab\";\n",
    "\n",
    "# training sets\n",
    "humangold_dataset,humangold_label=loaddata(humangoldfile);\n",
    "humansilver_dataset,humansilver_label=loaddata(humansilverfile);\n",
    "\n",
    "# test set\n",
    "humanall_dataset,humanall_label=loaddata(humanallfile);"
   ]
  },
  {
   "cell_type": "code",
   "execution_count": null,
   "metadata": {
    "collapsed": true
   },
   "outputs": [],
   "source": [
    "# the number of hidden units in the hidden layers of the DeepPPI-CON model\n",
    "## override number of inputs from deeputils\n",
    "NOINPUTS = 4\n",
    "HIDDENSSEP = Any[NOINPUTS, 512, 256, 128]; \n",
    "HIDDENSMER = Any[256, 128, NOOUTPUTS]\n",
    "NOEPOCH = 100;\n",
    "BATCHSIZE = 32;\n",
    "PDROP = (0, 0.2);\n",
    "accuracy_ =[]\n",
    "recall=[]\n",
    "specifity=[]\n",
    "precision= []\n",
    "mcc=[]\n",
    "f1=[]\n",
    "npv=[]\n",
    "accuracyt= recalli=specifityi=precisioni=mcci = 0.0\n",
    "for i in 1:5\n",
    "    #setseed(i);\n",
    "    #wa = winit(HIDDENSSEP...);\n",
    "    #wb = winit(HIDDENSSEP...);\n",
    "    #wMerged = winit(HIDDENSMER...);\n",
    "    #w = vcat(wa, wb, wMerged);\n",
    "    w = deepcopy(wl)\n",
    "    \n",
    "    #dtrn, ddev, dtst = dividedataset(concatAB, ygold, trnper, devper, tstper; batchsize= BATCHSIZE);\n",
    "    dtrn, dtst = trn_tst_split(yeast_dataset, yeast_label, trnper, tstper; batchsize= BATCHSIZE);\n",
    "    \n",
    "    optims = params(w; optim=\"Momentum\", lr=0.01, gamma=0.9);\n",
    "    #@time trnloss, trnerr, tstloss, tsterr=trainSep!(w, optims, dtrn, predictSep, ddev; pdrop=PDROP, epochs=NOEPOCH) \n",
    "    @time trainSep!(w, optims, dtrn, predictSep, dtst; pdrop=PDROP, epochs=NOEPOCH) \n",
    "    \n",
    "    println(\"Yeast Dataset, fold: \", i)\n",
    "    println(\"Training: min. loss =\",loss(w,dtrn,predictSep),\", min. error =\",zeroone(w,dtrn,predictSep))  \n",
    "    println(\"Test: min. loss =\",loss(w,dtst,predictSep),\", min. error =\",zeroone(w,dtst,predictSep))  \n",
    "    \n",
    "    accuracyt,recalli,specifityi,precisioni,mcci,f1i,npvi = modelevaluation(w, dtst, predictSep; p=true);\n",
    "    push!(accuracy_, accuracyt)\n",
    "    push!(recall, recalli)\n",
    "    push!(specifity, specifityi)\n",
    "    push!(precision, precisioni)\n",
    "    push!(mcc, mcci)\n",
    "    push!(f1, f1i)\n",
    "    push!(npv, npvi)\n",
    "    \n",
    "end"
   ]
  }
 ],
 "metadata": {
  "kernelspec": {
   "display_name": "Julia 0.6.2",
   "language": "julia",
   "name": "julia-0.6"
  },
  "language_info": {
   "file_extension": ".jl",
   "mimetype": "application/julia",
   "name": "julia",
   "version": "0.6.2"
  }
 },
 "nbformat": 4,
 "nbformat_minor": 2
}
