{
 "cells": [
  {
   "cell_type": "code",
   "execution_count": 1,
   "metadata": {},
   "outputs": [],
   "source": [
    "using Knet"
   ]
  },
  {
   "cell_type": "code",
   "execution_count": 2,
   "metadata": {
    "collapsed": true
   },
   "outputs": [],
   "source": [
    "function constructFeatDict()\n",
    "    # read features for all proteins\n",
    "    f = open(\"yeast_feature_all.csv\");\n",
    "    lines = readlines(f);\n",
    "    close(f);\n",
    "    numberOfProteins = length(lines) \n",
    "    featureNames = String.(split(lines[1],\",\")); \n",
    "    d = length(featureNames) - 1 # number of features per protein\n",
    "    proteins = lines[2:numberOfProteins];\n",
    "    featuresDict = Dict{String,Any}()\n",
    "    for p in proteins\n",
    "        featureVect = String.(split(p, \",\"));\n",
    "        featuresDict[featureVect[1]] = parse.(Float32, featureVect[2:d+1])\n",
    "    end\n",
    "    return featuresDict;\n",
    "end;"
   ]
  },
  {
   "cell_type": "code",
   "execution_count": 3,
   "metadata": {
    "collapsed": true
   },
   "outputs": [],
   "source": [
    "function loaddata(featuresDict)\n",
    "    f = open(\"yeast_protein_pair.csv\")\n",
    "    lines = readlines(f);\n",
    "    close(f)\n",
    "    n = length(lines); # number of samples/ protein pairs\n",
    "    samples = lines[2:end - 1];\n",
    "    proteinA_ID = []\n",
    "    proteinA = []\n",
    "    #proteinB_ID = []\n",
    "    proteinB = []\n",
    "    concatAB = []\n",
    "    ygold = Array{UInt8,1}(n);\n",
    "    i = 1;\n",
    "    for s in samples\n",
    "        s = String.(split(s, \",\"));\n",
    "        # push!(proteinA_ID, s[1]);\n",
    "        push!(proteinA, reshape(mat(featuresDict[s[1]]), 1, 1164));\n",
    "        #push!(proteinB_ID, s[2]);\n",
    "        push!(proteinB, reshape(mat(featuresDict[s[2]]), 1, 1164))\n",
    "        push!(concatAB, hcat(reshape(mat(featuresDict[s[1]]), 1, 1164), reshape(mat(featuresDict[s[2]]), 1, 1164)))\n",
    "        label = parse(Int64, s[3]);\n",
    "        ygold[i] = convert(UInt8, label + 1);\n",
    "        i += 1;\n",
    "    end\n",
    "    return vcat(map(Atype, concatAB)...), map(Atype, proteinA), map(Atype, proteinB), ygold\n",
    "end;"
   ]
  },
  {
   "cell_type": "code",
   "execution_count": 26,
   "metadata": {},
   "outputs": [],
   "source": [
    "# number of input features per protein\n",
    "NOINPUTS = 1164;\n",
    "# number of input features for the protein pair\n",
    "NOCONCAT = NOINPUTS * 2;\n",
    "# output is a one-hot-vector 10 -> not interacting, 01 -> intracting\n",
    "NOOUTPUTS = 2;\n",
    "# the number of hidden units in the hidden layers of the DeepPPI-CON model\n",
    "HIDDENS = Any[NOCONCAT, 512, 256, 128, 128, NOOUTPUTS]; \n",
    "\n",
    "#trnper = 0.58;\n",
    "trnper = 0.0001;\n",
    "devper = 0.17;\n",
    "tstper = 1 - trnper - devper;\n",
    "NOEPOCH = 60;\n",
    "BATCHSIZE = 100;\n",
    "Atype = gpu() >= 0 ? KnetArray{Float32} : Array{Float32};\n",
    "setseed(13);"
   ]
  },
  {
   "cell_type": "code",
   "execution_count": 27,
   "metadata": {
    "collapsed": true
   },
   "outputs": [],
   "source": [
    "function winit(h...)  # use winit(x,h1,h2,...,hn,y) for n hidden layer model\n",
    "    w = Any[]\n",
    "    for i=2:length(h)\n",
    "        push!(w, xavier(h[i],h[i-1]))\n",
    "        push!(w, zeros(h[i],1))\n",
    "    end\n",
    "    map(Atype, w)\n",
    "end;"
   ]
  },
  {
   "cell_type": "code",
   "execution_count": 28,
   "metadata": {
    "collapsed": true
   },
   "outputs": [],
   "source": [
    "# Input X matrix and gold labels Y\n",
    "# Output list of minibatches (x, y)\n",
    "function minibatchi(X, Y, batchsize)\n",
    "    data = Any[] # You are going to fill that data array\n",
    "    for i = 1:batchsize:size(X, 2)\n",
    "        bl = min(i + batchsize - 1, size(X, 2))\n",
    "        push!(data, (X[:, i:bl], Y[i:bl]))\n",
    "    end\n",
    "    return data\n",
    "end;"
   ]
  },
  {
   "cell_type": "code",
   "execution_count": 29,
   "metadata": {
    "collapsed": true
   },
   "outputs": [],
   "source": [
    "function dividedataset(data, ygold, trnper, devper, tstper) # 0.58, 0.17, 0.25\n",
    "    nosamples = size(data,1)\n",
    "    notst = Int(floor(tstper*nosamples))\n",
    "    notrn = Int(floor(trnper * nosamples))\n",
    "    nodev = nosamples - notrn - notst\n",
    "    ind = randperm(nosamples)\n",
    "  \n",
    "    xtrn = data[ind[1:notrn],:];\n",
    "    ytrn = ygold[ind[1:notrn]];\n",
    "   \n",
    "    xtst = data[ind[notrn+1:notrn+notst], :];\n",
    "    ytst = ygold[ind[notrn+1:notrn+notst]];\n",
    "    \n",
    "    xdev = data[ind[notrn+notst+1:nosamples], :];\n",
    "    ydev = ygold[ind[notrn+notst+1:nosamples]];\n",
    "    \n",
    "    dtrn = minibatchi(xtrn',ytrn,BATCHSIZE);\n",
    "    ddev = minibatchi(xdev',ydev,BATCHSIZE);\n",
    "    dtst = minibatchi(xtst',ytst,BATCHSIZE);\n",
    "    \n",
    "    return dtrn, ddev, dtst\n",
    "end;"
   ]
  },
  {
   "cell_type": "code",
   "execution_count": 90,
   "metadata": {
    "collapsed": true
   },
   "outputs": [],
   "source": [
    "function predict(w,x)\n",
    "    for i=1:2:length(w)\n",
    "        x = w[i]*x .+ w[i+1]\n",
    "        if i<length(w)-1\n",
    "            x = relu.(x)   ## apply RELU to all but the final layer's output                        \n",
    "        #else\n",
    "          #x = x .-maximum(x, 1)\n",
    "          #x = exp.(x) ./ (sum(exp.(x), 1))\n",
    "        end\n",
    "    end\n",
    "    return x\n",
    "end;"
   ]
  },
  {
   "cell_type": "code",
   "execution_count": 102,
   "metadata": {},
   "outputs": [],
   "source": [
    "loss(w,x,ygold) = nll(predict(w,x),ygold);\n",
    "\n",
    "lossgradient = grad(loss);"
   ]
  },
  {
   "cell_type": "code",
   "execution_count": 92,
   "metadata": {
    "collapsed": true
   },
   "outputs": [],
   "source": [
    "# Train model(w) with SGD and return a list containing w for every epoch\n",
    "function train!(w,data,predict; epochs=100,lr=.5,o...)\n",
    "    #weights = Any[deepcopy(w)]\n",
    "    for epoch in 1:epochs\n",
    "        for (x,y) in data\n",
    "            dw = lossgradient(w,x,y)\n",
    "            #print(dw[1])\n",
    "            #for i in 1:length(w)\n",
    "            #   w[i] -= lr * dw[i]\n",
    "            #end\n",
    "            update!(w,dw,lr=lr)  # w[i] = w[i] - lr * g[i]\n",
    "        end\n",
    "        #push!(weights,deepcopy(w))\n",
    "    end\n",
    "    #return weights\n",
    "end;"
   ]
  },
  {
   "cell_type": "code",
   "execution_count": 93,
   "metadata": {
    "collapsed": true
   },
   "outputs": [],
   "source": [
    "report(epoch)=println((:epoch,epoch,:trn,accuracyi(w,dtrn,predict),:dev,accuracyi(w,ddev,predict)));"
   ]
  },
  {
   "cell_type": "code",
   "execution_count": 94,
   "metadata": {},
   "outputs": [],
   "source": [
    "function accuracyi(ypred, ygold)\n",
    "    count = 0\n",
    "    for i in 1:size(ypred, 2)\n",
    "        if((ypred[1,i] >= ypred[2,i] && ygold[i]==1) || (ypred[1,i] <= ypred[2,i] && ygold[i]==2))\n",
    "            count +=1\n",
    "        end\n",
    "    end\n",
    "    return count/size(ypred, 2);\n",
    "end;"
   ]
  },
  {
   "cell_type": "code",
   "execution_count": 95,
   "metadata": {
    "collapsed": true
   },
   "outputs": [],
   "source": [
    "function accuracyi(w, data, predict)\n",
    "    acc = 0;\n",
    "    for (x, y) in data\n",
    "        ypred = predict(w,x)\n",
    "        acc += accuracyi(ypred, y) \n",
    "    end\n",
    "    return acc/length(data)\n",
    "end;"
   ]
  },
  {
   "cell_type": "code",
   "execution_count": 96,
   "metadata": {},
   "outputs": [],
   "source": [
    "w = winit(HIDDENS...);\n",
    "featuresDict = constructFeatDict();\n",
    "concatAB, proteinA, proteinB, ygold = loaddata(featuresDict);"
   ]
  },
  {
   "cell_type": "code",
   "execution_count": 97,
   "metadata": {
    "collapsed": true
   },
   "outputs": [],
   "source": [
    "dtrn, ddev, dtst = dividedataset(concatAB, ygold, trnper, devper, tstper);"
   ]
  },
  {
   "cell_type": "code",
   "execution_count": 98,
   "metadata": {},
   "outputs": [
    {
     "data": {
      "text/plain": [
       "6-element Array{UInt8,1}:\n",
       " 0x02\n",
       " 0x01\n",
       " 0x01\n",
       " 0x02\n",
       " 0x01\n",
       " 0x02"
      ]
     },
     "execution_count": 98,
     "metadata": {},
     "output_type": "execute_result"
    }
   ],
   "source": [
    "(x,y) = first(dtrn);\n",
    "y"
   ]
  },
  {
   "cell_type": "code",
   "execution_count": 99,
   "metadata": {},
   "outputs": [
    {
     "data": {
      "text/plain": [
       "2×6 Array{Float32,2}:\n",
       " 0.844305  1.4874    1.43828    0.861744  0.0121901  1.09614 \n",
       " 0.134845  0.357256  0.281146  -0.127397  0.687298   0.244738"
      ]
     },
     "execution_count": 99,
     "metadata": {},
     "output_type": "execute_result"
    }
   ],
   "source": [
    "yp = predict(w, x)"
   ]
  },
  {
   "cell_type": "code",
   "execution_count": 101,
   "metadata": {},
   "outputs": [
    {
     "name": "stdout",
     "output_type": "stream",
     "text": [
      "("
     ]
    },
    {
     "data": {
      "text/plain": [
       "2×6 Array{Float32,2}:\n",
       "  6.23959f5   5.83695f5   7.01851f5   8.2431f5    1.30412f6   7.67819f5\n",
       " -6.36274f5  -5.95252f5  -7.15711f5  -8.40545f5  -1.32971f6  -7.82945f5"
      ]
     },
     "metadata": {},
     "output_type": "display_data"
    },
    {
     "data": {
      "text/plain": [
       "2×6 Array{Float32,2}:\n",
       " -1.98146f19  -1.67906f19  -2.02128f19  -2.44712f19  -3.74723f19  -2.35605f19\n",
       "  1.98143f19   1.67903f19   2.02125f19   2.44708f19   3.74717f19   2.35602f19"
      ]
     },
     "metadata": {},
     "output_type": "display_data"
    },
    {
     "data": {
      "text/plain": [
       "2×6 Array{Float32,2}:\n",
       "  Inf32   Inf32   Inf32   Inf32   Inf32   Inf32\n",
       " -Inf32  -Inf32  -Inf32  -Inf32  -Inf32  -Inf32"
      ]
     },
     "metadata": {},
     "output_type": "display_data"
    },
    {
     "data": {
      "text/plain": [
       "2×6 Array{Float32,2}:\n",
       " NaN32  NaN32  NaN32  NaN32  NaN32  NaN32\n",
       " NaN32  NaN32  NaN32  NaN32  NaN32  NaN32"
      ]
     },
     "metadata": {},
     "output_type": "display_data"
    },
    {
     "data": {
      "text/plain": [
       "2×6 Array{Float32,2}:\n",
       " NaN32  NaN32  NaN32  NaN32  NaN32  NaN32\n",
       " NaN32  NaN32  NaN32  NaN32  NaN32  NaN32"
      ]
     },
     "metadata": {},
     "output_type": "display_data"
    },
    {
     "name": "stdout",
     "output_type": "stream",
     "text": [
      ":epoch, 0, :trn, 0.3333333333333333, :dev, 0.633709077380953)\n",
      "  0.117590 seconds (25.67 k allocations: 28.431 MiB)\n"
     ]
    }
   ],
   "source": [
    "report(0)\n",
    "w = winit(HIDDENS...);\n",
    "#println(w[1][2])\n",
    "@time for epoch = 1:5\n",
    "    train!(w, dtrn, predict; lr=0.5, epochs=1)\n",
    "    display(predict(w, x))\n",
    "    #report(epoch)\n",
    "end"
   ]
  },
  {
   "cell_type": "code",
   "execution_count": 106,
   "metadata": {},
   "outputs": [
    {
     "name": "stdout",
     "output_type": "stream",
     "text": [
      "0.5"
     ]
    }
   ],
   "source": [
    "# Training Set\n",
    "trnacc = 0;\n",
    "for (x, y) in dtrn\n",
    "    ypred = predict(w,x)\n",
    "    trnacc += accuracyi(ypred, y) \n",
    "end\n",
    "print(trnacc/length(dtrn))"
   ]
  },
  {
   "cell_type": "code",
   "execution_count": 107,
   "metadata": {},
   "outputs": [
    {
     "name": "stdout",
     "output_type": "stream",
     "text": [
      "0.26210542352224253"
     ]
    }
   ],
   "source": [
    "# Test Set\n",
    "tstacc = 0;\n",
    "for (x, y) in dtst\n",
    "    ypred = predict(w,x)\n",
    "    tstacc += accuracyi(ypred, y) \n",
    "end\n",
    "print(tstacc/length(dtst))"
   ]
  },
  {
   "cell_type": "code",
   "execution_count": 108,
   "metadata": {},
   "outputs": [
    {
     "name": "stdout",
     "output_type": "stream",
     "text": [
      "0.26224330357142855"
     ]
    }
   ],
   "source": [
    "# dev Set\n",
    "devacc = 0;\n",
    "for (x, y) in ddev\n",
    "    ypred = predict(w,x)\n",
    "    devacc += accuracyi(ypred, y) \n",
    "end\n",
    "print(devacc/length(ddev))"
   ]
  },
  {
   "cell_type": "code",
   "execution_count": null,
   "metadata": {
    "collapsed": true
   },
   "outputs": [],
   "source": []
  }
 ],
 "metadata": {
  "kernelspec": {
   "display_name": "Julia 0.6.2",
   "language": "julia",
   "name": "julia-0.6"
  },
  "language_info": {
   "file_extension": ".jl",
   "mimetype": "application/julia",
   "name": "julia",
   "version": "0.6.2"
  }
 },
 "nbformat": 4,
 "nbformat_minor": 2
}
