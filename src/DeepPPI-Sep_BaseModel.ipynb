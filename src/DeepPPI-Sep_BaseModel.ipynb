{
 "cells": [
  {
   "cell_type": "code",
   "execution_count": 1,
   "metadata": {},
   "outputs": [],
   "source": [
    "for p in (\"Knet\", \"Plots\", \"NBInclude\")\n",
    "    Pkg.installed(p) == nothing && Pkg.add(p);\n",
    "end"
   ]
  },
  {
   "cell_type": "code",
   "execution_count": 2,
   "metadata": {},
   "outputs": [],
   "source": [
    "using Knet, Plots, NBInclude;\n",
    "nbinclude(\"deepppiutils.ipynb\"); # loads trnper, devper, tstper, featuresDict, concatAB, train!, trainSep!, modelevaluation \n",
    "                                 # ygold, winit, minibatchi, predict, predictSep,loss,zeroone, report, lossgradient, params,\n",
    "                                 # loadmodel"
   ]
  },
  {
   "cell_type": "code",
   "execution_count": 3,
   "metadata": {},
   "outputs": [],
   "source": [
    "lossSep(w,x,ygold, predictSep) = nll(predictSep(w,x),ygold);\n",
    "lossSep(w, data, predictSep) = mean(loss(w,x,y,predictSep) for (x,y) in data);\n",
    "zerooneSep(w,data,predictSep) = 1 - accuracyi(w,data,predictSep);"
   ]
  },
  {
   "cell_type": "code",
   "execution_count": 12,
   "metadata": {},
   "outputs": [],
   "source": [
    "# the number of hidden units in the hidden layers of the DeepPPI-CON model\n",
    "HIDDENSSEP = Any[NOINPUTS, 512, 256, 128]; \n",
    "HIDDENSMER = Any[256, 128, NOOUTPUTS]\n",
    "BATCHSIZE = 64;\n",
    "trnper = 0.58;\n",
    "devper = 0.17;\n",
    "tstper = 1 - trnper - devper;"
   ]
  },
  {
   "cell_type": "code",
   "execution_count": 13,
   "metadata": {},
   "outputs": [],
   "source": [
    "wa = winit(HIDDENSSEP...);\n",
    "wb = winit(HIDDENSSEP...);\n",
    "wMerged = winit(HIDDENSMER...);\n",
    "w = vcat(wa, wb, wMerged);\n",
    "dtrn, ddev, dtst = dividedataset(concatAB, ygold, trnper, devper, tstper; batchsize= BATCHSIZE);"
   ]
  },
  {
   "cell_type": "code",
   "execution_count": 14,
   "metadata": {},
   "outputs": [
    {
     "name": "stdout",
     "output_type": "stream",
     "text": [
      "0.5006769169329073\n",
      "0.6931464\n",
      "TP: 10005 , TN: 17 , FP: 30 , FN: 9966\n",
      "Model evaluation:\n",
      "Accuracy : 0.5006494155010166\n",
      "Precision : 0.997010463278823\n",
      "NPV : 0.0017028949211957433\n",
      "Sensitivity / Recall : 0.500976415777829\n",
      "Specifity : 0.3617021199637847\n",
      "MCC : -0.01329223503962594\n",
      "F1 : 0.6668666266524406\n"
     ]
    }
   ],
   "source": [
    "# Training Set\n",
    "trnacc = 0;\n",
    "for (x, y) in dtrn\n",
    "    ypred = predictSep(w,x)\n",
    "    trnacc += accuracyi(ypred, y) \n",
    "end\n",
    "println(trnacc/length(dtrn));\n",
    "println(loss(w, dtrn, predictSep));\n",
    "modelevaluation(w, dtrn, predictSep; p=true);"
   ]
  },
  {
   "cell_type": "code",
   "execution_count": 15,
   "metadata": {},
   "outputs": [
    {
     "name": "stdout",
     "output_type": "stream",
     "text": [
      "0.4978847579051383\n",
      "0.6931471\n",
      "TP: 2917 , TN: 5 , FP: 6 , FN: 2940\n",
      "Model evaluation:\n",
      "Accuracy : 0.4979550101400894\n",
      "Precision : 0.9979473140615986\n",
      "NPV : 0.001697792868693449\n",
      "Sensitivity / Recall : 0.49803653739149106\n",
      "Specifity : 0.4545454132231443\n",
      "MCC : -0.004102231855258467\n",
      "F1 : 0.6644646924072364\n"
     ]
    }
   ],
   "source": [
    "# dev Set\n",
    "devacc = 0;\n",
    "for (x, y) in ddev\n",
    "    ypred = predictSep(w,x)\n",
    "    devacc += accuracyi(ypred, y) \n",
    "end\n",
    "println(devacc/length(ddev))\n",
    "println(loss(w, ddev, predictSep))\n",
    "modelevaluation(w, ddev, predictSep; p=true);"
   ]
  },
  {
   "cell_type": "code",
   "execution_count": 16,
   "metadata": {},
   "outputs": [
    {
     "name": "stdout",
     "output_type": "stream",
     "text": [
      "0.49865562678062675\n",
      "0.6931473\n",
      "TP: 4289 , TN: 12 , FP: 9 , FN: 4318\n",
      "Model evaluation:\n",
      "Accuracy : 0.4984932776427337\n",
      "Precision : 0.9979060025598171\n",
      "NPV : 0.002771362585965043\n",
      "Sensitivity / Recall : 0.4983153246777837\n",
      "Specifity : 0.5714285442176883\n",
      "MCC : 0.00687328892382538\n",
      "F1 : 0.664703603203045\n"
     ]
    }
   ],
   "source": [
    "# Test Set\n",
    "tstacc = 0;\n",
    "for (x, y) in dtst\n",
    "    ypred = predictSep(w,x)\n",
    "    tstacc += accuracyi(ypred, y) \n",
    "end\n",
    "println(tstacc/length(dtst))\n",
    "println(loss(w, dtst, predictSep))\n",
    "modelevaluation(w, dtst, predictSep; p=true);"
   ]
  }
 ],
 "metadata": {
  "kernelspec": {
   "display_name": "Julia 0.6.2",
   "language": "julia",
   "name": "julia-0.6"
  },
  "language_info": {
   "file_extension": ".jl",
   "mimetype": "application/julia",
   "name": "julia",
   "version": "0.6.2"
  }
 },
 "nbformat": 4,
 "nbformat_minor": 2
}
