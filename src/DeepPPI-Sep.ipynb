{
 "cells": [
  {
   "cell_type": "code",
   "execution_count": 1,
   "metadata": {
    "collapsed": true
   },
   "outputs": [],
   "source": [
    "for p in (\"Knet\", \"Plots\", \"NBInclude\")\n",
    "    Pkg.installed(p) == nothing && Pkg.add(p);\n",
    "end"
   ]
  },
  {
   "cell_type": "code",
   "execution_count": 2,
   "metadata": {
    "collapsed": true
   },
   "outputs": [],
   "source": [
    "using Knet, Plots, NBInclude;\n",
    "nbinclude(\"deepppiutils.ipynb\"); # loads trnper, devper, tstper, featuresDict, concatAB, proteinA, proteinB, \n",
    "                            # ygold,winit, minibatchi, predict,loss,zeroone, report, lossgradient"
   ]
  },
  {
   "cell_type": "markdown",
   "metadata": {},
   "source": [
    "## Model initialization"
   ]
  },
  {
   "cell_type": "code",
   "execution_count": 3,
   "metadata": {
    "collapsed": true
   },
   "outputs": [],
   "source": [
    "# the number of hidden units in the hidden layers of the DeepPPI-CON model\n",
    "HIDDENSSEP = Any[NOINPUTS, 512, 256, 128]; \n",
    "HIDDENSMER = Any[256, 128, NOOUTPUTS]\n",
    "NOEPOCH = 30;\n",
    "BATCHSIZE = 64;\n",
    "PDROP = (0, 0.2);"
   ]
  },
  {
   "cell_type": "markdown",
   "metadata": {},
   "source": [
    "## Model Training and evaluation\n",
    "For model evaluation a 5-holdout validation process was applied and an average performance was calculated"
   ]
  },
  {
   "cell_type": "code",
   "execution_count": 4,
   "metadata": {},
   "outputs": [
    {
     "name": "stdout",
     "output_type": "stream",
     "text": [
      "(:epoch, 10, :trn, 0.5876277139208174, :dev, 0.5860933048433049)\n",
      "(:epoch, 20, :trn, 0.9664737654320987, :dev, 0.9352475071225071)\n",
      "(:epoch, 30, :trn, 0.9736496913580247, :dev, 0.9369569088319089)\n",
      " 46.285533 seconds (33.16 M allocations: 1.285 GiB, 12.97% gc time)\n",
      "Dataset1\n",
      "Training: min. loss =0.07222839, min. error =0.026350308641975295\n",
      "Test: min. loss =0.2158853, min. error =0.06304309116809115\n",
      "TP: 3951 , TN: 4133 , FP: 380 , FN: 164\n",
      "Model evaluation:\n",
      "Accuracy : 0.9369494667435153\n",
      "Precision : 0.9122604477228675\n",
      "NPV : 0.9618338373372506\n",
      "Sensitivity / Recall : 0.9601458077861127\n",
      "Specifity : 0.9157988032537561\n",
      "MCC : 0.8750189593951528\n",
      "F1 : 0.9355908121080285\n",
      "(:epoch, 10, :trn, 0.7357386121753938, :dev, 0.735176282051282)\n",
      "(:epoch, 20, :trn, 0.9678932524478502, :dev, 0.9276976495726496)\n",
      "(:epoch, 30, :trn, 0.976929012345679, :dev, 0.9343839031339031)\n",
      " 68.475417 seconds (32.30 M allocations: 1.235 GiB, 39.77% gc time)\n",
      "Dataset2\n",
      "Training: min. loss =0.06568445, min. error =0.02307098765432103\n",
      "Test: min. loss =0.23228838, min. error =0.06561609686609693\n",
      "TP: 3972 , TN: 4090 , FP: 326 , FN: 240\n",
      "Model evaluation:\n",
      "Accuracy : 0.9343996290062123\n",
      "Precision : 0.9241507675839574\n",
      "NPV : 0.9445727480497522\n",
      "Sensitivity / Recall : 0.9430199427960541\n",
      "Specifity : 0.9261775360221518\n",
      "MCC : 0.868960465344673\n",
      "F1 : 0.933490011641188\n",
      "(:epoch, 10, :trn, 0.7341967326521923, :dev, 0.7258101851851851)\n",
      "(:epoch, 20, :trn, 0.9711033950617284, :dev, 0.9352207977207977)\n",
      "(:epoch, 30, :trn, 0.9799688697318008, :dev, 0.938230056980057)\n",
      " 68.135971 seconds (32.26 M allocations: 1.233 GiB, 39.76% gc time)\n",
      "Dataset3\n",
      "Training: min. loss =0.062450502, min. error =0.02003113026819925\n",
      "Test: min. loss =0.20724162, min. error =0.061769943019942986\n",
      "TP: 3955 , TN: 4140 , FP: 362 , FN: 171\n",
      "Model evaluation:\n",
      "Accuracy : 0.9382243856121668\n",
      "Precision : 0.9161454711799524\n",
      "NPV : 0.9603340290047937\n",
      "Sensitivity / Recall : 0.9585555014642375\n",
      "Specifity : 0.919591292554511\n",
      "MCC : 0.8773127514603568\n",
      "F1 : 0.936870780417284\n",
      "(:epoch, 10, :trn, 0.5833985206470839, :dev, 0.5866720085470086)\n",
      "(:epoch, 20, :trn, 0.9677469135802469, :dev, 0.9320957977207978)\n",
      "(:epoch, 30, :trn, 0.9767361111111111, :dev, 0.9364672364672364)\n",
      " 68.307716 seconds (32.19 M allocations: 1.231 GiB, 39.99% gc time)\n",
      "Dataset4\n",
      "Training: min. loss =0.06902054, min. error =0.023263888888888862\n",
      "Test: min. loss =0.20027128, min. error =0.0635327635327636\n",
      "TP: 3926 , TN: 4154 , FP: 365 , FN: 183\n",
      "Model evaluation:\n",
      "Accuracy : 0.9364858598821875\n",
      "Precision : 0.9149382426206156\n",
      "NPV : 0.9578049340655279\n",
      "Sensitivity / Recall : 0.9554636162191619\n",
      "Specifity : 0.9192299179200641\n",
      "MCC : 0.8737178116368919\n",
      "F1 : 0.9347619046506236\n",
      "(:epoch, 10, :trn, 0.8115887079608344, :dev, 0.7915509259259259)\n",
      "(:epoch, 20, :trn, 0.9706630481055768, :dev, 0.9353098290598291)\n",
      "(:epoch, 30, :trn, 0.9784256598552575, :dev, 0.9399394586894587)\n",
      " 68.354238 seconds (32.25 M allocations: 1.233 GiB, 39.95% gc time)\n",
      "Dataset5\n",
      "Training: min. loss =0.06306112, min. error =0.021574340144742465\n",
      "Test: min. loss =0.2039077, min. error =0.06006054131054128\n",
      "TP: 4018 , TN: 4092 , FP: 332 , FN: 186\n",
      "Model evaluation:\n",
      "Accuracy : 0.9399629113421462\n",
      "Precision : 0.9236781607072003\n",
      "NPV : 0.9565217389068439\n",
      "Sensitivity / Recall : 0.9557564222274604\n",
      "Specifity : 0.9249547918343229\n",
      "MCC : 0.8804555201565429\n",
      "F1 : 0.939443535078391\n"
     ]
    }
   ],
   "source": [
    "accuracy =[]\n",
    "recall=[]\n",
    "specifity=[]\n",
    "precision= []\n",
    "mcc=[]\n",
    "f1=[]\n",
    "npv=[]\n",
    "accuracyt= recalli=specifityi=precisioni=mcci = 0.0\n",
    "for i in 1:5\n",
    "    #setseed(i);\n",
    "    wa = winit(HIDDENSSEP...);\n",
    "    wb = winit(HIDDENSSEP...);\n",
    "    wMerged = winit(HIDDENSMER...);\n",
    "    w = vcat(wa, wb, wMerged);\n",
    "    \n",
    "    #dtrn, ddev, dtst = dividedataset(concatAB, ygold, trnper, devper, tstper; batchsize= BATCHSIZE);\n",
    "    dtrn, dtst = dividedataset(concatAB, ygold, trnper, devper, tstper; batchsize= BATCHSIZE, dev=false);\n",
    "    \n",
    "    optims = params(w; optim=\"Momentum\", lr=0.01, gamma=0.9);\n",
    "    #@time trnloss, trnerr, tstloss, tsterr=trainSep!(w, optims, dtrn, predictSep, ddev; pdrop=PDROP, epochs=NOEPOCH) \n",
    "    @time trainSep!(w, optims, dtrn, predictSep, dtst; pdrop=PDROP, epochs=NOEPOCH) \n",
    "    \n",
    "    println(\"Dataset\", i)\n",
    "    println(\"Training: min. loss =\",loss(w,dtrn,predictSep),\", min. error =\",zeroone(w,dtrn,predictSep))  \n",
    "    println(\"Test: min. loss =\",loss(w,dtst,predictSep),\", min. error =\",zeroone(w,dtst,predictSep))  \n",
    "    \n",
    "    accuracyt,recalli,specifityi,precisioni,mcci,f1i,npvi = modelevaluation(w, dtst, predictSep; p=true);\n",
    "    push!(accuracy, accuracyt)\n",
    "    push!(recall, recalli)\n",
    "    push!(specifity, specifityi)\n",
    "    push!(precision, precisioni)\n",
    "    push!(mcc, mcci)\n",
    "    push!(f1, f1i)\n",
    "    push!(npv, npvi)\n",
    "    \n",
    "    writedlm(\"DeepPPI_SepModel\"*string(i)*\".csv\", map(Array, w))\n",
    "end"
   ]
  },
  {
   "cell_type": "code",
   "execution_count": 5,
   "metadata": {
    "collapsed": true
   },
   "outputs": [],
   "source": [
    "#summary(accuracy)\n",
    "open(\"DeepPPI-Sep_Scores.txt\", \"w\") do f\n",
    "    write(f, \"Dataset \\tAccuracy\\t\\t\\tPrecision\\t\\t\\tnpv      \\t\\t\\tRecall   \\t\\t\\tSpecifity\\t\\t\\tMCC\\n\")\n",
    "    write(f, \"__________________________________________________________________________________________________________________________________\\n\")\n",
    "    for i in 1:5\n",
    "        write(f, \"dataset\"*string(i)*\"\\t\"*string(accuracy[i]) *\"\\t\"* string(precision[i]) *\"\\t\"* string(npv[i]) *\"\\t\"* string(recall[i]) *\"\\t\"*  string(specifity[i]) *\"\\t\"*  string(mcc[i]) *\"\\n\")\n",
    "    end\n",
    "    write(f, \"__________________________________________________________________________________________________________________________________\\n\")\n",
    "    write(f, \"Average\"*\"\\t\\t\"*string(mean(accuracy)) *\"\\t\"* string(mean(precision))  *\"\\t\"* string(mean(npv)) *\"\\t\"* string(mean(recall)) *\"\\t\"*  string(mean(specifity)) *\"\\t\"*  string(mean(mcc)) *\"\\n\")\n",
    "end;\n",
    "#println(\"Accuracy\", \"   Precision\", \"   npv\",\" recall\", \"    specifity\", \"     mcc\", \"       f1\")\n",
    "#(hcat(accuracy, precision, npv, recall, specifity, mcc, f1))"
   ]
  },
  {
   "cell_type": "code",
   "execution_count": 6,
   "metadata": {},
   "outputs": [
    {
     "name": "stdout",
     "output_type": "stream",
     "text": [
      "Total Number of trainable parameters: 1554562\n"
     ]
    }
   ],
   "source": [
    "w_sizes = Tuple{Int64,Int64}[(512, 1164) (512, 1) (256, 512) (256, 1) (128, 256) (128, 1) (512, 1164) (512, 1) (256, 512) (256, 1) (128, 256) (128, 1) (128, 256) (128, 1) (2, 128) (2, 1)]\n",
    "totalNoOfParams = 0;\n",
    "for i in 1:length(w_sizes)\n",
    "    totalNoOfParams += w_sizes[i][1] * w_sizes[i][2]\n",
    "end\n",
    "println(\"Total Number of trainable parameters: \", totalNoOfParams)\n"
   ]
  },
  {
   "cell_type": "markdown",
   "metadata": {},
   "source": [
    "## The following code is used while training to test different hyper parameters"
   ]
  },
  {
   "cell_type": "code",
   "execution_count": null,
   "metadata": {
    "collapsed": true
   },
   "outputs": [],
   "source": [
    "# used while training to test different hyper parameters\n",
    "plot([trnerr tsterr],ylim=(0.00,0.55),\n",
    "    labels=[:trnDeepPPI_Sep :tstDeepPPI_Sep],xlabel=\"Epochs\",ylabel=\"Error\")  "
   ]
  },
  {
   "cell_type": "code",
   "execution_count": null,
   "metadata": {
    "collapsed": true
   },
   "outputs": [],
   "source": [
    "# used while training to test different hyper parameters\n",
    "plot([trnloss tstloss],ylim=(0.0,0.8),\n",
    "    labels=[:trnDeepPPI_Sep :tstDeepPPI_Sep],xlabel=\"Epochs\",ylabel=\"Loss\")  "
   ]
  },
  {
   "cell_type": "code",
   "execution_count": null,
   "metadata": {
    "collapsed": true
   },
   "outputs": [],
   "source": [
    "# Training Set\n",
    "trnacc = 0;\n",
    "for (x, y) in dtrn\n",
    "    ypred = predictSep(w,x)\n",
    "    trnacc += accuracyi(ypred, y) \n",
    "end\n",
    "println(\"Training Dataset\")\n",
    "println(\"Accuracy: \", trnacc/length(dtrn));\n",
    "println(\"Loss: \", loss(w, dtrn, predictSep));\n",
    "modelevaluation(w, dtrn, predictSep; p=true);"
   ]
  },
  {
   "cell_type": "code",
   "execution_count": null,
   "metadata": {
    "collapsed": true
   },
   "outputs": [],
   "source": [
    "# dev Set\n",
    "devacc = 0;\n",
    "for (x, y) in ddev\n",
    "    ypred = predictSep(w,x)\n",
    "    devacc += accuracyi(ypred, y) \n",
    "end\n",
    "println(\"Dev Dataset\")\n",
    "println(\"Accuracy: \", devacc/length(ddev))\n",
    "println(\"Loss: \", loss(w, ddev, predictSep))\n",
    "modelevaluation(w, ddev, predictSep; p=true);"
   ]
  },
  {
   "cell_type": "code",
   "execution_count": null,
   "metadata": {
    "collapsed": true
   },
   "outputs": [],
   "source": [
    "# Test Set\n",
    "tstacc = 0;\n",
    "for (x, y) in dtst\n",
    "    ypred = predictSep(w,x)\n",
    "    tstacc += accuracyi(ypred, y) \n",
    "end\n",
    "println(\"Test Dataset\")\n",
    "println(\"Accuracy: \", tstacc/length(dtst))\n",
    "println(\"Loss: \", loss(w, dtst, predictSep))\n",
    "modelevaluation(w, dtst, predictSep; p=true);"
   ]
  }
 ],
 "metadata": {
  "kernelspec": {
   "display_name": "Julia 0.6.2",
   "language": "julia",
   "name": "julia-0.6"
  },
  "language_info": {
   "file_extension": ".jl",
   "mimetype": "application/julia",
   "name": "julia",
   "version": "0.6.2"
  }
 },
 "nbformat": 4,
 "nbformat_minor": 2
}
