{
 "cells": [
  {
   "cell_type": "code",
   "execution_count": 1,
   "metadata": {},
   "outputs": [],
   "source": [
    "for p in (\"Knet\", \"Plots\", \"NBInclude\")\n",
    "    Pkg.installed(p) == nothing && Pkg.add(p);\n",
    "end"
   ]
  },
  {
   "cell_type": "code",
   "execution_count": 3,
   "metadata": {},
   "outputs": [],
   "source": [
    "using Knet, Plots, NBInclude;\n",
    "nbinclude(\"deepppiutils.ipynb\"); # loads trnper, devper, tstper, featuresDict, concatAB, proteinA, proteinB, \n",
    "                            # ygold,winit, minibatchi, predict,loss,zeroone, report, lossgradient"
   ]
  },
  {
   "cell_type": "code",
   "execution_count": 4,
   "metadata": {},
   "outputs": [],
   "source": [
    "# the number of hidden units in the hidden layers of the DeepPPI-CON model\n",
    "HIDDENS = Any[NOCONCAT, 512, 256, 128, 128, NOOUTPUTS]; \n",
    "BATCHSIZE = 64;\n",
    "trnper = 0.58;\n",
    "devper = 0.17;\n",
    "tstper = 1 - trnper - devper;"
   ]
  },
  {
   "cell_type": "code",
   "execution_count": 5,
   "metadata": {},
   "outputs": [],
   "source": [
    "w = winit(HIDDENS...);\n",
    "dtrn, ddev, dtst = dividedataset(concatAB, ygold, trnper, devper, tstper);"
   ]
  },
  {
   "cell_type": "code",
   "execution_count": 8,
   "metadata": {
    "scrolled": true
   },
   "outputs": [
    {
     "name": "stdout",
     "output_type": "stream",
     "text": [
      "0.4930750798722045\n",
      "0.6931473\n",
      "TP: 8946 , TN: 924 , FP: 989 , FN: 9159\n",
      "Model evaluation:\n",
      "Accuracy : 0.49305624935093134\n",
      "Precision : 0.9004529440462553\n",
      "NPV : 0.09163939302869786\n",
      "Sensitivity / Recall : 0.4941176470315317\n",
      "Specifity : 0.48301097726972764\n",
      "MCC : -0.013448387455919385\n",
      "F1 : 0.638088445055703\n"
     ]
    }
   ],
   "source": [
    "# Training Set\n",
    "trnacc = 0;\n",
    "for (x, y) in dtrn\n",
    "    ypred = predict(w,x)\n",
    "    trnacc += accuracyi(ypred, y) \n",
    "end\n",
    "println(trnacc/length(dtrn));\n",
    "println(loss(w, dtrn, predict));\n",
    "modelevaluation(w, dtrn, predict; p=true);"
   ]
  },
  {
   "cell_type": "code",
   "execution_count": 11,
   "metadata": {},
   "outputs": [
    {
     "name": "stdout",
     "output_type": "stream",
     "text": [
      "0.5012108262108261\n",
      "0.6931469\n",
      "TP: 3929 , TN: 395 , FP: 411 , FN: 3893\n",
      "Model evaluation:\n",
      "Accuracy : 0.5011590170953687\n",
      "Precision : 0.9052995389619125\n",
      "NPV : 0.0921175372919502\n",
      "Sensitivity / Recall : 0.5023012016744692\n",
      "Specifity : 0.4900744410793121\n",
      "MCC : -0.004437694208677556\n",
      "F1 : 0.6461108369802573\n"
     ]
    }
   ],
   "source": [
    "# Test Set\n",
    "tstacc = 0;\n",
    "for (x, y) in dtst\n",
    "    ypred = predict(w,x)\n",
    "    tstacc += accuracyi(ypred, y) \n",
    "end\n",
    "println(tstacc/length(dtst))\n",
    "println(loss(w, dtst, predict))\n",
    "modelevaluation(w, dtst, predict; p=true);"
   ]
  },
  {
   "cell_type": "code",
   "execution_count": 10,
   "metadata": {},
   "outputs": [
    {
     "name": "stdout",
     "output_type": "stream",
     "text": [
      "0.5014358942687747\n",
      "0.69314706\n",
      "TP: 2703 , TN: 239 , FP: 284 , FN: 2642\n",
      "Model evaluation:\n",
      "Accuracy : 0.5013633264312605\n",
      "Precision : 0.9049213254419414\n",
      "NPV : 0.08295730646200719\n",
      "Sensitivity / Recall : 0.5057062674451438\n",
      "Specifity : 0.45697896662145515\n",
      "MCC : -0.02126748666813774\n",
      "F1 : 0.6488238117320182\n"
     ]
    }
   ],
   "source": [
    "# dev Set\n",
    "devacc = 0;\n",
    "for (x, y) in ddev\n",
    "    ypred = predict(w,x)\n",
    "    devacc += accuracyi(ypred, y) \n",
    "end\n",
    "println(devacc/length(ddev))\n",
    "println(loss(w, ddev, predict))\n",
    "modelevaluation(w, ddev, predict; p=true);"
   ]
  }
 ],
 "metadata": {
  "kernelspec": {
   "display_name": "Julia 0.6.2",
   "language": "julia",
   "name": "julia-0.6"
  },
  "language_info": {
   "file_extension": ".jl",
   "mimetype": "application/julia",
   "name": "julia",
   "version": "0.6.2"
  }
 },
 "nbformat": 4,
 "nbformat_minor": 2
}
