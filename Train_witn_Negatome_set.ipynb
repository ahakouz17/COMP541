{
 "cells": [
  {
   "cell_type": "code",
   "execution_count": 1,
   "metadata": {
    "collapsed": true
   },
   "outputs": [],
   "source": [
    "for p in (\"Knet\", \"Plots\", \"NBInclude\")\n",
    "    Pkg.installed(p) == nothing && Pkg.add(p);\n",
    "end"
   ]
  },
  {
   "cell_type": "code",
   "execution_count": 2,
   "metadata": {
    "collapsed": true
   },
   "outputs": [],
   "source": [
    "using Knet, Plots, NBInclude;\n",
    "nbinclude(\"deepppiutils.ipynb\");"
   ]
  },
  {
   "cell_type": "code",
   "execution_count": 3,
   "metadata": {
    "collapsed": true
   },
   "outputs": [],
   "source": [
    "featuresDict = constructFeatDictNegatome();\n",
    "concatAB, ygold = loaddataNegatome(featuresDict);"
   ]
  },
  {
   "cell_type": "code",
   "execution_count": null,
   "metadata": {
    "collapsed": true
   },
   "outputs": [],
   "source": [
    "# the number of hidden units in the hidden layers of the DeepPPI-sep model\n",
    "HIDDENSSEP = Any[NOINPUTS, 512, 256, 128]; \n",
    "HIDDENSMER = Any[256, 128, NOOUTPUTS]\n",
    "NOEPOCH = 30;\n",
    "BATCHSIZE = 50;\n",
    "PDROP = (0, 0.2);"
   ]
  },
  {
   "cell_type": "code",
   "execution_count": null,
   "metadata": {
    "collapsed": true
   },
   "outputs": [],
   "source": [
    "accuracy =[]\n",
    "recall=[]\n",
    "specifity=[]\n",
    "precision= []\n",
    "mcc=[]\n",
    "f1=[]\n",
    "npv=[]\n",
    "accuracyt= recalli=specifityi=precisioni=mcci = 0.0\n",
    "for i in 1:5\n",
    "    #setseed(i);\n",
    "    wa = winit(HIDDENSSEP...);\n",
    "    wb = winit(HIDDENSSEP...);\n",
    "    wMerged = winit(HIDDENSMER...);\n",
    "    w = vcat(wa, wb, wMerged);\n",
    "    \n",
    "    #dtrn, ddev, dtst = dividedataset(concatAB, ygold, trnper, devper, tstper; batchsize= BATCHSIZE);\n",
    "    dtrn, dtst = dividedatasetNegatome(concatAB, ygold, trnper, devper, tstper; batchsize= BATCHSIZE, dev=false);\n",
    "    \n",
    "    optims = params(w; optim=\"Momentum\", lr=0.01, gamma=0.9);\n",
    "    #@time trnloss, trnerr, tstloss, tsterr=trainSep!(w, optims, dtrn, predictSep, ddev; pdrop=PDROP, epochs=NOEPOCH) \n",
    "    @time trainSep!(w, optims, dtrn, predictSep, dtst; pdrop=PDROP, epochs=NOEPOCH) \n",
    "    \n",
    "    println(\"Dataset\", i)\n",
    "    println(\"Training: min. loss =\",loss(w,dtrn,predictSep),\", min. error =\",zeroone(w,dtrn,predictSep))  \n",
    "    println(\"Test: min. loss =\",loss(w,dtst,predictSep),\", min. error =\",zeroone(w,dtst,predictSep))  \n",
    "    \n",
    "    accuracyt,recalli,specifityi,precisioni,mcci,f1i,npvi = modelevaluation(w, dtst, predictSep; p=true);\n",
    "    push!(accuracy, accuracyt)\n",
    "    push!(recall, recalli)\n",
    "    push!(specifity, specifityi)\n",
    "    push!(precision, precisioni)\n",
    "    push!(mcc, mcci)\n",
    "    push!(f1, f1i)\n",
    "    push!(npv, npvi)\n",
    "    \n",
    "    writedlm(\"DeepPPI_SepModel\"*string(i)*\".csv\", map(Array, w))\n",
    "end"
   ]
  },
  {
   "cell_type": "code",
   "execution_count": null,
   "metadata": {
    "collapsed": true
   },
   "outputs": [],
   "source": [
    "#summary(accuracy)\n",
    "open(\"DeepPPI-Sep_Scores_wNegatome2.txt\", \"w\") do f\n",
    "    write(f, \"Dataset \\tAccuracy\\t\\t\\tPrecision\\t\\t\\tnpv      \\t\\t\\tRecall   \\t\\t\\tSpecifity\\t\\t\\tMCC\\n\")\n",
    "    for i in 1:5\n",
    "        write(f, \"dataset\"*string(i)*\"\\t\"*string(accuracy[i]) *\"\\t\"* string(precision[i]) *\"\\t\"* string(npv[i]) *\"\\t\"* string(recall[i]) *\"\\t\"*  string(specifity[i]) *\"\\t\"*  string(mcc[i]) *\"\\n\")\n",
    "    end\n",
    "    write(f, \"Average\"*\"\\t\\t\"*string(mean(accuracy)) *\"\\t\"* string(mean(precision))  *\"\\t\"* string(mean(npv)) *\"\\t\"* string(mean(recall)) *\"\\t\"*  string(mean(specifity)) *\"\\t\"*  string(mean(mcc)) *\"\\n\")\n",
    "end;\n",
    "#println(\"Accuracy\", \"   Precision\", \"   npv\",\" recall\", \"    specifity\", \"     mcc\", \"       f1\")\n",
    "#(hcat(accuracy, precision, npv, recall, specifity, mcc, f1))"
   ]
  },
  {
   "cell_type": "markdown",
   "metadata": {},
   "source": [
    "# DeepPPI-Con With Negatome Dataset"
   ]
  },
  {
   "cell_type": "code",
   "execution_count": 5,
   "metadata": {
    "collapsed": true
   },
   "outputs": [],
   "source": [
    "# the number of hidden units in the hidden layers of the DeepPPI-CON model\n",
    "HIDDENS = Any[NOCONCAT, 512, 256, 128, 128, NOOUTPUTS]; \n",
    "NOEPOCH = 30;\n",
    "BATCHSIZE = 50;\n",
    "PDROP = (0, 0.2);"
   ]
  },
  {
   "cell_type": "code",
   "execution_count": 6,
   "metadata": {},
   "outputs": [
    {
     "name": "stdout",
     "output_type": "stream",
     "text": [
      "12444×2328 Array{Float32,2}\n",
      "(:epoch, 10, :trn, 0.9888770053475927, :tst, 0.9536507936507935)\n",
      "(:epoch, 20, :trn, 0.9979679144385025, :tst, 0.9619047619047618)\n",
      "(:epoch, 30, :trn, 0.9981818181818182, :tst, 0.9593650793650791)\n",
      "162.850690 seconds (8.29 M allocations: 36.752 GiB, 4.56% gc time)\n",
      "Dataset1\n",
      "Training: min. loss =0.027462926, min. error =0.005989304812834995\n",
      "Test: min. loss =0.26537022, min. error =0.04349206349206347\n",
      "TP: 1481 , TN: 1493 , FP: 54 , FN: 83\n",
      "Model evaluation:\n",
      "Accuracy : 0.9559627126467494\n",
      "Precision : 0.9648208462769896\n",
      "NPV : 0.9473350247796097\n",
      "Sensitivity / Recall : 0.9469309456861055\n",
      "Specifity : 0.9650937291757635\n",
      "MCC : 0.9120902718294054\n",
      "F1 : 0.9557921907209448\n",
      "12444×2328 Array{Float32,2}\n",
      "(:epoch, 10, :trn, 0.9841711229946511, :tst, 0.9571428571428571)\n",
      "(:epoch, 20, :trn, 0.996898395721925, :tst, 0.9593650793650793)\n",
      "(:epoch, 30, :trn, 0.9988235294117647, :tst, 0.9628571428571429)\n",
      "160.247836 seconds (6.71 M allocations: 36.673 GiB, 4.78% gc time)\n",
      "Dataset2\n",
      "Training: min. loss =0.003037976, min. error =0.0012834224598932131\n",
      "Test: min. loss =0.19501173, min. error =0.04031746031746053\n",
      "TP: 1475 , TN: 1509 , FP: 65 , FN: 62\n",
      "Model evaluation:\n",
      "Accuracy : 0.9591771131600203\n",
      "Precision : 0.9577922071702647\n",
      "NPV : 0.9605346906680237\n",
      "Sensitivity / Recall : 0.9596616779702917\n",
      "Specifity : 0.9587039383998068\n",
      "MCC : 0.9183462581331718\n",
      "F1 : 0.9587260315376256\n",
      "12444×2328 Array{Float32,2}\n",
      "(:epoch, 10, :trn, 0.9893048128342239, :tst, 0.9528427128427126)\n",
      "(:epoch, 20, :trn, 0.9975401069518716, :tst, 0.9612698412698409)\n",
      "(:epoch, 30, :trn, 0.9986096256684492, :tst, 0.9606349206349203)\n",
      "153.401556 seconds (6.71 M allocations: 36.673 GiB, 4.93% gc time)\n",
      "Dataset3\n",
      "Training: min. loss =0.0056009153, min. error =0.0019251336898395977\n",
      "Test: min. loss =0.19103397, min. error =0.03936507936507949\n",
      "TP: 1441 , TN: 1546 , FP: 71 , FN: 53\n",
      "Model evaluation:\n",
      "Accuracy : 0.9601414333140015\n",
      "Precision : 0.953042327412009\n",
      "NPV : 0.9668542833227928\n",
      "Sensitivity / Recall : 0.964524765083986\n",
      "Specifity : 0.9560915269288239\n",
      "MCC : 0.9202563822565228\n",
      "F1 : 0.9587491680110615\n",
      "12444×2328 Array{Float32,2}\n",
      "(:epoch, 10, :trn, 0.9861481121374164, :tst, 0.9517460317460313)\n",
      "(:epoch, 20, :trn, 0.9975401069518718, :tst, 0.9603174603174603)\n",
      "(:epoch, 30, :trn, 0.9989304812834223, :tst, 0.9634920634920632)\n",
      "142.254115 seconds (6.71 M allocations: 36.673 GiB, 5.02% gc time)\n",
      "Dataset4\n",
      "Training: min. loss =0.0038497886, min. error =0.0016042780748664054\n",
      "Test: min. loss =0.22467214, min. error =0.03714285714285748\n",
      "TP: 1503 , TN: 1491 , FP: 64 , FN: 53\n",
      "Model evaluation:\n",
      "Accuracy : 0.9623915136732911\n",
      "Precision : 0.9591576254249153\n",
      "NPV : 0.9656735745040974\n",
      "Sensitivity / Recall : 0.9659383027211192\n",
      "Specifity : 0.9588424431132845\n",
      "MCC : 0.9248059737747201\n",
      "F1 : 0.9625360227465463\n",
      "12444×2328 Array{Float32,2}\n",
      "(:epoch, 10, :trn, 0.993048128342246, :tst, 0.9609523809523807)\n",
      "(:epoch, 20, :trn, 0.9982887700534758, :tst, 0.9587301587301584)\n",
      "(:epoch, 30, :trn, 0.996577540106952, :tst, 0.9587301587301587)\n",
      "160.163312 seconds (6.71 M allocations: 36.673 GiB, 4.78% gc time)\n",
      "Dataset5\n",
      "Training: min. loss =0.0024504995, min. error =0.000855614973261809\n",
      "Test: min. loss =0.20263965, min. error =0.04063492063492102\n",
      "TP: 1494 , TN: 1489 , FP: 71 , FN: 57\n",
      "Model evaluation:\n",
      "Accuracy : 0.9588556731086931\n",
      "Precision : 0.954632587249436\n",
      "NPV : 0.9631306591441586\n",
      "Sensitivity / Recall : 0.9632495158199551\n",
      "Specifity : 0.9544871788753286\n",
      "MCC : 0.9177499716809745\n",
      "F1 : 0.9589216941723615\n"
     ]
    }
   ],
   "source": [
    "accuracy =[]\n",
    "recall=[]\n",
    "specifity=[]\n",
    "precision= []\n",
    "mcc=[]\n",
    "f1=[]\n",
    "npv=[]\n",
    "accuracyt= recalli=specifityi=precisioni=mcci = 0.0\n",
    "for i in 1:5\n",
    "    #setseed(i);\n",
    "    w = winit(HIDDENS...);\n",
    "    \n",
    "    #dtrn, ddev, dtst = dividedataset(concatAB, ygold, trnper, devper, tstper; batchsize= BATCHSIZE);\n",
    "    dtrn, dtst = dividedatasetNegatome(concatAB, ygold, trnper, devper, tstper; batchsize= BATCHSIZE, dev=false);\n",
    "    \n",
    "    optims = params(w; optim=\"Momentum\", lr=0.01, gamma=0.9);\n",
    "    #@time trnloss, trnerr, tstloss, tsterr=train!(w, optims, dtrn, predictSep, ddev; pdrop=PDROP, epochs=NOEPOCH) \n",
    "    @time train!(w, optims, dtrn, predict, dtst; pdrop=PDROP, epochs=NOEPOCH) \n",
    "    \n",
    "    println(\"Dataset\", i)\n",
    "    println(\"Training: min. loss =\",loss(w,dtrn,predict),\", min. error =\",zeroone(w,dtrn,predict))  \n",
    "    println(\"Test: min. loss =\",loss(w,dtst,predict),\", min. error =\",zeroone(w,dtst,predict))  \n",
    "    \n",
    "    accuracyt,recalli,specifityi,precisioni,mcci,f1i,npvi = modelevaluation(w, dtst, predict; p=true);\n",
    "    push!(accuracy, accuracyt)\n",
    "    push!(recall, recalli)\n",
    "    push!(specifity, specifityi)\n",
    "    push!(precision, precisioni)\n",
    "    push!(mcc, mcci)\n",
    "    push!(f1, f1i)\n",
    "    push!(npv, npvi)\n",
    "    \n",
    "    writedlm(\"DeepPPI_ConModel\"*string(i)*\".csv\", map(Array, w))\n",
    "end"
   ]
  },
  {
   "cell_type": "code",
   "execution_count": 8,
   "metadata": {
    "collapsed": true
   },
   "outputs": [],
   "source": [
    "#summary(accuracy)\n",
    "open(\"DeepPPI-Con_Scores_wNegatome2.txt\", \"w\") do f\n",
    "    write(f, \"Dataset \\tAccuracy\\t\\t\\tPrecision\\t\\t\\tnpv      \\t\\t\\tRecall   \\t\\t\\tSpecifity\\t\\t\\tMCC\\n\")\n",
    "    for i in 1:5\n",
    "        write(f, \"dataset\"*string(i)*\"\\t\"*string(accuracy[i]) *\"\\t\"* string(precision[i]) *\"\\t\"* string(npv[i]) *\"\\t\"* string(recall[i]) *\"\\t\"*  string(specifity[i]) *\"\\t\"*  string(mcc[i]) *\"\\n\")\n",
    "    end\n",
    "    write(f, \"Average\"*\"\\t\\t\"*string(mean(accuracy)) *\"\\t\"* string(mean(precision))  *\"\\t\"* string(mean(npv)) *\"\\t\"* string(mean(recall)) *\"\\t\"*  string(mean(specifity)) *\"\\t\"*  string(mean(mcc)) *\"\\n\")\n",
    "end;\n",
    "#println(\"Accuracy\", \"   Precision\", \"   npv\",\" recall\", \"    specifity\", \"     mcc\", \"       f1\")\n",
    "#(hcat(accuracy, precision, npv, recall, specifity, mcc, f1))"
   ]
  },
  {
   "cell_type": "code",
   "execution_count": null,
   "metadata": {
    "collapsed": true
   },
   "outputs": [],
   "source": []
  }
 ],
 "metadata": {
  "kernelspec": {
   "display_name": "Julia 0.6.2",
   "language": "julia",
   "name": "julia-0.6"
  },
  "language_info": {
   "file_extension": ".jl",
   "mimetype": "application/julia",
   "name": "julia",
   "version": "0.6.2"
  }
 },
 "nbformat": 4,
 "nbformat_minor": 2
}
