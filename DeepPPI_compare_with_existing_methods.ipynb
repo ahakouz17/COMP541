{
 "cells": [
  {
   "cell_type": "code",
   "execution_count": 1,
   "metadata": {
    "collapsed": true
   },
   "outputs": [],
   "source": [
    "using Knet, Plots, NBInclude;\n",
    "nbinclude(\"deepppiutils.ipynb\");"
   ]
  },
  {
   "cell_type": "markdown",
   "metadata": {},
   "source": [
    "## Features Dictionary Construction\n",
    "\n",
    "This function constructs protein features dictionary. Protein features for the taining data set are stored in the file \"yeast_feature_all.csv\". \n",
    "The function returns a dictionary mapping a protein UniProt ID to its 1164-features vector\n",
    "* ```featurefilepath```    : The path for the file containint features data"
   ]
  },
  {
   "cell_type": "code",
   "execution_count": 2,
   "metadata": {
    "collapsed": true
   },
   "outputs": [],
   "source": [
    "function constructFeatDict(featurefilepath)\n",
    "    # read features for all proteins\n",
    "    f = open(featurefilepath);\n",
    "    lines = readlines(f);\n",
    "    close(f);\n",
    "    numberOfProteins = length(lines) \n",
    "    featureNames = String.(split(lines[1],\",\")); \n",
    "    d = length(featureNames) - 1 # number of features per protein\n",
    "    proteins = lines[2:numberOfProteins];\n",
    "    featuresDict = Dict{String,Any}()\n",
    "    for p in proteins\n",
    "        featureVect = String.(split(p, \",\"));\n",
    "        # to avoid NaN values due to missing data\n",
    "        if(\"\" in featureVect[2:d+1])\n",
    "            continue\n",
    "        end\n",
    "        featuresDict[featureVect[1]] = parse.(Float32, featureVect[2:d+1]) # featureVect[1] is the protein UniProt ID \n",
    "    end\n",
    "    return featuresDict;\n",
    "end;"
   ]
  },
  {
   "cell_type": "markdown",
   "metadata": {},
   "source": [
    "## Loading Data\n",
    "\n",
    "This function loads the training data with its labels \n",
    "* ```featuresDict```    : The features dictionary which maps the protein ID to its features vector\n",
    "\n",
    "The function returns two arrays, the data and the labels. \n",
    "In order to construct the data matrix, the following steps are executed:\n",
    "* Protein pairs (represented by their UniProt IDs are read from the file \"yeast_protein_pair.csv\".\n",
    "* A feature vector for each partner in the protein pair is extracted from ```featuresDict``` \n",
    "* The resulting two feature vectors are concatenated to form a new combined 2328-elements features vector\n",
    "* Combined vectors for all pairs in the dataset are concatenated vertically to for the 65852x2328 data matrix ```concatAB```. \n",
    "* Labels for the protein pairs are read and returned as ```ygold```\n"
   ]
  },
  {
   "cell_type": "code",
   "execution_count": 3,
   "metadata": {
    "collapsed": true
   },
   "outputs": [],
   "source": [
    "function loaddata(featuresfilepath, pairsfilepath, nopos, noneg; Atype=gpu() >= 0 ? KnetArray{Float32} : Array{Float32})\n",
    "    pairsfile = open(pairsfilepath)\n",
    "    pairslines = readlines(pairsfile)\n",
    "    featuresDict = constructFeatDict(featuresfilepath)\n",
    "    close(pairsfile)\n",
    "    \n",
    "    n = length(pairslines); # number of samples/ protein pairs\n",
    "    pairslines = pairslines[2:end];\n",
    "    pos_a = pairslines[1:nopos];\n",
    "    pos_b = pairslines[nopos+1:2*nopos];\n",
    "    \n",
    "    neg_a = pairslines[(2*nopos +1): (2*nopos+noneg)];\n",
    "    neg_b = pairslines[(2*nopos+noneg+1):(2*nopos+2*noneg)];\n",
    "\n",
    "    concatAB1 = []\n",
    "    i = 1\n",
    "    ygold = Array{UInt8,1}(nopos + noneg);\n",
    "\n",
    "    pos_miss = 0\n",
    "    for j in 1: length(pos_a)\n",
    "        aline = pos_a[j]\n",
    "        bline = pos_b[j]\n",
    "        a = String.(split(aline, \",\"));\n",
    "        b = String.(split(bline, \",\"));\n",
    "        if(get(featuresDict, a[1], 0) == 0 || get(featuresDict, b[1], 0) == 0 )\n",
    "            pos_miss += 1\n",
    "            continue\n",
    "        end\n",
    "        push!(concatAB1, hcat(reshape(mat(featuresDict[a[1]]), 1, 1164), reshape(mat(featuresDict[b[1]]), 1, 1164)))\n",
    "        ygold[i] = 0x02; # positive class\n",
    "        i += 1\n",
    "    end\n",
    "    neg_miss = 0\n",
    "    for j in 1:length(neg_a)\n",
    "        aline = neg_a[j]\n",
    "        bline = neg_b[j]\n",
    "        a = String.(split(aline, \",\"));\n",
    "        b = String.(split(bline, \",\"));\n",
    "        if(get(featuresDict, a[1], 0) == 0 || get(featuresDict, b[1], 0) == 0 )\n",
    "            neg_miss += 1\n",
    "            continue\n",
    "        end\n",
    "        push!(concatAB1, hcat(reshape(mat(featuresDict[a[1]]), 1, 1164), reshape(mat(featuresDict[b[1]]), 1, 1164)))\n",
    "        ygold[i] = 0x01; # negative class\n",
    "        i += 1\n",
    "    end\n",
    "    println(\"Num of dropped positive sample: \", pos_miss, \" , Num of dropped negative sample: \", neg_miss)\n",
    "    concatAB = vcat(map(Atype, concatAB1)...)\n",
    "    return concatAB, ygold\n",
    "end;"
   ]
  },
  {
   "cell_type": "code",
   "execution_count": 4,
   "metadata": {
    "collapsed": true
   },
   "outputs": [],
   "source": [
    "function trn_tst_split(data, ygold, trnper, tstper; batchsize=64)\n",
    "    nosamples = size(data,1)\n",
    "    notrn = Int(floor(trnper * nosamples))\n",
    "    notst = nosamples - notrn\n",
    "    ind = randperm(nosamples)\n",
    "    \n",
    "    xtrn = data[ind[1:notrn],:];\n",
    "    ytrn = ygold[ind[1:notrn]];\n",
    "    \n",
    "    xtst = data[ind[notrn+1:notrn+notst], :];\n",
    "    ytst = ygold[ind[notrn+1:notrn+notst]];\n",
    "    \n",
    "    dtrn = minibatchi(xtrn',ytrn,batchsize);\n",
    "    dtst = minibatchi(xtst',ytst,batchsize);\n",
    "    \n",
    "    return dtrn, dtst\n",
    "end;"
   ]
  },
  {
   "cell_type": "code",
   "execution_count": 5,
   "metadata": {
    "collapsed": true
   },
   "outputs": [],
   "source": [
    "w_sizes = Tuple{Int64,Int64}[(512, 1164) (512, 1) (256, 512) (256, 1) (128, 256) (128, 1) (512, 1164) (512, 1) (256, 512) (256, 1) (128, 256) (128, 1) (128, 256) (128, 1) (2, 128) (2, 1)]\n",
    "wl = loadmodel(\"DeepPPI_SepModel5.csv\",  w_sizes);"
   ]
  },
  {
   "cell_type": "markdown",
   "metadata": {},
   "source": [
    "# Yeast Dataset"
   ]
  },
  {
   "cell_type": "code",
   "execution_count": 7,
   "metadata": {},
   "outputs": [
    {
     "data": {
      "text/plain": [
       "\"11188×2328 Array{Float32,2}\""
      ]
     },
     "execution_count": 7,
     "metadata": {},
     "output_type": "execute_result"
    }
   ],
   "source": [
    "summary(yeast_dataset)"
   ]
  },
  {
   "cell_type": "code",
   "execution_count": 6,
   "metadata": {},
   "outputs": [
    {
     "name": "stdout",
     "output_type": "stream",
     "text": [
      "Num of dropped positive sample: 0 , Num of dropped negative sample: 0\n"
     ]
    }
   ],
   "source": [
    "yeast_feature=\"test_datasets/Yeast/yeast_feature.csv\"\n",
    "yeast_protein=\"test_datasets/Yeast/yeast_protein.csv\"\n",
    "yeast_dataset,yeast_label=loaddata(yeast_feature,yeast_protein,5594,5594);\n",
    "#dtrn, dtst = trn_tst_split(yeast_dataset,yeast_label, 0.75, 0.25);"
   ]
  },
  {
   "cell_type": "code",
   "execution_count": 8,
   "metadata": {},
   "outputs": [
    {
     "name": "stdout",
     "output_type": "stream",
     "text": [
      "(:epoch, 10, :trn, 0.9692234848484849, :tst, 0.931573547979798)\n",
      "(:epoch, 20, :trn, 0.9907670454545454, :tst, 0.9416666666666665)\n",
      "(:epoch, 30, :trn, 0.9959753787878788, :tst, 0.9375552398989899)\n",
      "108.148394 seconds (9.39 M allocations: 39.459 GiB, 4.80% gc time)\n",
      "Yeast Dataset, fold: 1\n",
      "Training: min. loss =0.013052665, min. error =0.0040246212121212155\n",
      "Test: min. loss =0.3003736, min. error =0.06244476010101008\n",
      "TP: 1234 , TN: 1388 , FP: 112 , FN: 63\n",
      "Model evaluation:\n",
      "Accuracy : 0.9374329635547255\n",
      "Precision : 0.916790489660631\n",
      "NPV : 0.9565816671560429\n",
      "Sensitivity / Recall : 0.9514263678092317\n",
      "Specifity : 0.9253333327164444\n",
      "MCC : 0.8750642907877682\n",
      "F1 : 0.9337873624919458\n",
      "(:epoch, 10, :trn, 0.9635416666666666, :tst, 0.9377604166666665)\n",
      "(:epoch, 20, :trn, 0.9924242424242424, :tst, 0.9429371843434343)\n",
      "(:epoch, 30, :trn, 0.9952651515151515, :tst, 0.9479087752525253)\n",
      " 87.800304 seconds (7.55 M allocations: 39.367 GiB, 5.00% gc time)\n",
      "Yeast Dataset, fold: 2\n",
      "Training: min. loss =0.01340518, min. error =0.004734848484848508\n",
      "Test: min. loss =0.3007549, min. error =0.05209122474747474\n",
      "TP: 1308 , TN: 1344 , FP: 115 , FN: 30\n",
      "Model evaluation:\n",
      "Accuracy : 0.9481587411697681\n",
      "Precision : 0.9191848201551758\n",
      "NPV : 0.9781659381527176\n",
      "Sensitivity / Recall : 0.9775784746056961\n",
      "Specifity : 0.9211788890190685\n",
      "MCC : 0.8980537869333003\n",
      "F1 : 0.9474827957452073\n",
      "(:epoch, 10, :trn, 0.9728929924242424, :tst, 0.9347695707070707)\n",
      "(:epoch, 20, :trn, 0.9911221590909091, :tst, 0.9404513888888889)\n",
      "(:epoch, 30, :trn, 0.9921875, :tst, 0.9430871212121211)\n",
      " 91.923264 seconds (7.55 M allocations: 39.367 GiB, 4.93% gc time)\n",
      "Yeast Dataset, fold: 3\n",
      "Training: min. loss =0.017460674, min. error =0.0078125\n",
      "Test: min. loss =0.28005615, min. error =0.05691287878787887\n",
      "TP: 1318 , TN: 1320 , FP: 95 , FN: 64\n",
      "Model evaluation:\n",
      "Accuracy : 0.9431533782827483\n",
      "Precision : 0.9327671614063926\n",
      "NPV : 0.953757224744395\n",
      "Sensitivity / Recall : 0.9536903032173007\n",
      "Specifity : 0.9328621901534542\n",
      "MCC : 0.8865384409982324\n",
      "F1 : 0.9431127009148077\n",
      "(:epoch, 10, :trn, 0.9666193181818182, :tst, 0.9334043560606061)\n",
      "(:epoch, 20, :trn, 0.9924242424242424, :tst, 0.9329940025252526)\n",
      "(:epoch, 30, :trn, 0.9975142045454546, :tst, 0.9351246843434343)\n",
      " 83.961488 seconds (7.55 M allocations: 39.367 GiB, 5.01% gc time)\n",
      "Yeast Dataset, fold: 4\n",
      "Training: min. loss =0.008587161, min. error =0.002485795454545414\n",
      "Test: min. loss =0.32505786, min. error =0.06487531565656568\n",
      "TP: 1262 , TN: 1354 , FP: 126 , FN: 55\n",
      "Model evaluation:\n",
      "Accuracy : 0.935287808031717\n",
      "Precision : 0.909221901362232\n",
      "NPV : 0.9609652228807911\n",
      "Sensitivity / Recall : 0.9582384199254074\n",
      "Specifity : 0.9148648642467129\n",
      "MCC : 0.871643986016398\n",
      "F1 : 0.9330868758103191\n",
      "(:epoch, 10, :trn, 0.9762073863636364, :tst, 0.9359848484848484)\n",
      "(:epoch, 20, :trn, 0.9941998106060606, :tst, 0.9398358585858585)\n",
      "(:epoch, 30, :trn, 0.9972774621212122, :tst, 0.9377051767676767)\n",
      " 83.005387 seconds (7.55 M allocations: 39.367 GiB, 5.07% gc time)\n",
      "Yeast Dataset, fold: 5\n",
      "Training: min. loss =0.008811124, min. error =0.002722537878787845\n",
      "Test: min. loss =0.33330902, min. error =0.06229482323232327\n",
      "TP: 1295 , TN: 1327 , FP: 121 , FN: 54\n",
      "Model evaluation:\n",
      "Accuracy : 0.9374329635547255\n",
      "Precision : 0.9145480219530028\n",
      "NPV : 0.9608978993766126\n",
      "Sensitivity / Recall : 0.9599703476946105\n",
      "Specifity : 0.9164364634554996\n",
      "MCC : 0.8759262358206701\n",
      "F1 : 0.9367088604207202\n"
     ]
    }
   ],
   "source": [
    "# the number of hidden units in the hidden layers of the DeepPPI-CON model\n",
    "HIDDENSSEP = Any[NOINPUTS, 512, 256, 128]; \n",
    "HIDDENSMER = Any[256, 128, NOOUTPUTS]\n",
    "NOEPOCH = 30;\n",
    "BATCHSIZE = 64;\n",
    "PDROP = (0, 0.2);\n",
    "accuracy_ =[]\n",
    "recall=[]\n",
    "specifity=[]\n",
    "precision= []\n",
    "mcc=[]\n",
    "f1=[]\n",
    "npv=[]\n",
    "accuracyt= recalli=specifityi=precisioni=mcci = 0.0\n",
    "for i in 1:5\n",
    "    #setseed(i);\n",
    "    #wa = winit(HIDDENSSEP...);\n",
    "    #wb = winit(HIDDENSSEP...);\n",
    "    #wMerged = winit(HIDDENSMER...);\n",
    "    #w = vcat(wa, wb, wMerged);\n",
    "    w = deepcopy(wl)\n",
    "    \n",
    "    #dtrn, ddev, dtst = dividedataset(concatAB, ygold, trnper, devper, tstper; batchsize= BATCHSIZE);\n",
    "    dtrn, dtst = trn_tst_split(yeast_dataset, yeast_label, trnper, tstper; batchsize= BATCHSIZE);\n",
    "    \n",
    "    optims = params(w; optim=\"Momentum\", lr=0.01, gamma=0.9);\n",
    "    #@time trnloss, trnerr, tstloss, tsterr=trainSep!(w, optims, dtrn, predictSep, ddev; pdrop=PDROP, epochs=NOEPOCH) \n",
    "    @time trainSep!(w, optims, dtrn, predictSep, dtst; pdrop=PDROP, epochs=NOEPOCH) \n",
    "    \n",
    "    println(\"Yeast Dataset, fold: \", i)\n",
    "    println(\"Training: min. loss =\",loss(w,dtrn,predictSep),\", min. error =\",zeroone(w,dtrn,predictSep))  \n",
    "    println(\"Test: min. loss =\",loss(w,dtst,predictSep),\", min. error =\",zeroone(w,dtst,predictSep))  \n",
    "    \n",
    "    accuracyt,recalli,specifityi,precisioni,mcci,f1i,npvi = modelevaluation(w, dtst, predictSep; p=true);\n",
    "    push!(accuracy_, accuracyt)\n",
    "    push!(recall, recalli)\n",
    "    push!(specifity, specifityi)\n",
    "    push!(precision, precisioni)\n",
    "    push!(mcc, mcci)\n",
    "    push!(f1, f1i)\n",
    "    push!(npv, npvi)\n",
    "    \n",
    "end"
   ]
  },
  {
   "cell_type": "code",
   "execution_count": 9,
   "metadata": {
    "collapsed": true
   },
   "outputs": [],
   "source": [
    "open(\"DeepPPI-YeastDataset_Scores.txt\", \"w\") do f\n",
    "    write(f, \"Dataset \\tAccuracy\\t\\t\\tPrecision\\t\\t\\tnpv      \\t\\t\\tRecall   \\t\\t\\tSpecifity\\t\\t\\tMCC\\n\")\n",
    "    write(f, \"__________________________________________________________________________________________________________________________________\\n\")\n",
    "    for i in 1:5\n",
    "        write(f, \"dataset\"*string(i)*\"\\t\"*string(accuracy_[i]) *\"\\t\"* string(precision[i]) *\"\\t\"* string(npv[i]) *\"\\t\"* string(recall[i]) *\"\\t\"*  string(specifity[i]) *\"\\t\"*  string(mcc[i]) *\"\\n\")\n",
    "    end\n",
    "    write(f, \"__________________________________________________________________________________________________________________________________\\n\")\n",
    "    write(f, \"Average\"*\"\\t\\t\"*string(mean(accuracy_)) *\"\\t\"* string(mean(precision))  *\"\\t\"* string(mean(npv)) *\"\\t\"* string(mean(recall)) *\"\\t\"*  string(mean(specifity)) *\"\\t\"*  string(mean(mcc)) *\"\\n\")\n",
    "end;\n",
    "## DeepPPI: acc=0.948159, precision=0.972388, npv=0.925875, sensitivity=0.923459, specificity=0.973304, mcc=0.897513"
   ]
  },
  {
   "cell_type": "markdown",
   "metadata": {},
   "source": [
    "# Pylori Dataset"
   ]
  },
  {
   "cell_type": "code",
   "execution_count": 10,
   "metadata": {},
   "outputs": [
    {
     "name": "stdout",
     "output_type": "stream",
     "text": [
      "Num of dropped positive sample: 0 , Num of dropped negative sample: 34\n"
     ]
    }
   ],
   "source": [
    "pylori_feature=\"test_datasets/pylori/pylori_feature.csv\"\n",
    "pylori_protein=\"test_datasets/pylori/pylori_protein.csv\"\n",
    "pylori_dataset,pylori_label=loaddata(pylori_feature,pylori_protein,1458,1458);\n",
    "#dtrn, dtst = trn_tst_split(pylori_dataset,pylori_label, 0.75, 0.25);"
   ]
  },
  {
   "cell_type": "code",
   "execution_count": 11,
   "metadata": {},
   "outputs": [
    {
     "name": "stdout",
     "output_type": "stream",
     "text": [
      "(:epoch, 10, :trn, 0.9624943727490997, :tst, 0.8622855392156863)\n",
      "(:epoch, 20, :trn, 0.9912683823529411, :tst, 0.8531709558823529)\n",
      "(:epoch, 30, :trn, 0.9963235294117647, :tst, 0.8544730392156863)\n",
      " 21.219558 seconds (1.95 M allocations: 10.144 GiB, 5.58% gc time)\n",
      "Yeast Dataset, fold: 1\n",
      "Training: min. loss =0.0155166285, min. error =0.003676470588235281\n",
      "Test: min. loss =0.7072286, min. error =0.1455269607843137\n",
      "TP: 315 , TN: 297 , FP: 51 , FN: 58\n",
      "Model evaluation:\n",
      "Accuracy : 0.8488210806535075\n",
      "Precision : 0.8606557353533997\n",
      "NPV : 0.8366197159531839\n",
      "Sensitivity / Recall : 0.8445040191836354\n",
      "Specifity : 0.8534482734096314\n",
      "MCC : 0.6976137945710008\n",
      "F1 : 0.8525033817963419\n",
      "(:epoch, 10, :trn, 0.9670899609843938, :tst, 0.843060661764706)\n",
      "(:epoch, 20, :trn, 0.9972426470588235, :tst, 0.8323376225490197)\n",
      "(:epoch, 30, :trn, 0.9990808823529411, :tst, 0.8378523284313726)\n",
      " 21.355732 seconds (1.95 M allocations: 10.144 GiB, 5.81% gc time)\n",
      "Yeast Dataset, fold: 2\n",
      "Training: min. loss =0.005822806, min. error =0.0009191176470588758\n",
      "Test: min. loss =0.94019026, min. error =0.16214767156862742\n",
      "TP: 302 , TN: 300 , FP: 45 , FN: 74\n",
      "Model evaluation:\n",
      "Accuracy : 0.8349514551526332\n",
      "Precision : 0.8703170003737263\n",
      "NPV : 0.8021390352883984\n",
      "Sensitivity / Recall : 0.8031914872255546\n",
      "Specifity : 0.8695652148708255\n",
      "MCC : 0.6726063567284453\n",
      "F1 : 0.8354080209745394\n",
      "(:epoch, 10, :trn, 0.9741240246098438, :tst, 0.835248161764706)\n",
      "(:epoch, 20, :trn, 0.9954044117647058, :tst, 0.831341911764706)\n",
      "(:epoch, 30, :trn, 0.9986213235294118, :tst, 0.8339460784313726)\n",
      " 21.274541 seconds (1.95 M allocations: 10.144 GiB, 5.47% gc time)\n",
      "Yeast Dataset, fold: 3\n",
      "Training: min. loss =0.00775278, min. error =0.0013786764705882026\n",
      "Test: min. loss =1.0026408, min. error =0.16605392156862742\n",
      "TP: 310 , TN: 289 , FP: 52 , FN: 70\n",
      "Model evaluation:\n",
      "Accuracy : 0.8307905675023709\n",
      "Precision : 0.8563535887946033\n",
      "NPV : 0.805013925334223\n",
      "Sensitivity / Recall : 0.8157894715373961\n",
      "Specifity : 0.8475073288929403\n",
      "MCC : 0.6623314594245792\n",
      "F1 : 0.8355795136986799\n",
      "(:epoch, 10, :trn, 0.9712259903961585, :tst, 0.839154411764706)\n",
      "(:epoch, 20, :trn, 0.9949448529411765, :tst, 0.8378523284313726)\n",
      "(:epoch, 30, :trn, 0.9977022058823529, :tst, 0.8277420343137255)\n",
      " 21.587902 seconds (1.95 M allocations: 10.144 GiB, 5.91% gc time)\n",
      "Yeast Dataset, fold: 4\n",
      "Training: min. loss =0.008823156, min. error =0.0022977941176470784\n",
      "Test: min. loss =0.8019726, min. error =0.1722579656862745\n",
      "TP: 315 , TN: 282 , FP: 49 , FN: 75\n",
      "Model evaluation:\n",
      "Accuracy : 0.8280166424021961\n",
      "Precision : 0.8653846130071852\n",
      "NPV : 0.7899159641739049\n",
      "Sensitivity / Recall : 0.8076923056213018\n",
      "Specifity : 0.8519637436496563\n",
      "MCC : 0.6574747112195803\n",
      "F1 : 0.8355437654701011\n",
      "(:epoch, 10, :trn, 0.9726046668667467, :tst, 0.823529411764706)\n",
      "(:epoch, 20, :trn, 0.9931066176470589, :tst, 0.8186274509803922)\n",
      "(:epoch, 30, :trn, 0.9995404411764706, :tst, 0.8277420343137255)\n",
      " 21.102263 seconds (1.95 M allocations: 10.144 GiB, 5.53% gc time)\n",
      "Yeast Dataset, fold: 5\n",
      "Training: min. loss =0.004630198, min. error =0.0004595588235294379\n",
      "Test: min. loss =1.1528159, min. error =0.1722579656862745\n",
      "TP: 303 , TN: 294 , FP: 57 , FN: 67\n",
      "Model evaluation:\n",
      "Accuracy : 0.8280166424021961\n",
      "Precision : 0.8416666643287037\n",
      "NPV : 0.814404429876996\n",
      "Sensitivity / Recall : 0.8189189167056246\n",
      "Specifity : 0.8376068352204934\n",
      "MCC : 0.6562983882865179\n",
      "F1 : 0.8301369851641959\n"
     ]
    }
   ],
   "source": [
    "# the number of hidden units in the hidden layers of the DeepPPI-CON model\n",
    "HIDDENSSEP = Any[NOINPUTS, 512, 256, 128]; \n",
    "HIDDENSMER = Any[256, 128, NOOUTPUTS]\n",
    "NOEPOCH = 30;\n",
    "BATCHSIZE = 64;\n",
    "PDROP = (0, 0.2);\n",
    "\n",
    "accuracy_ =[]\n",
    "recall=[]\n",
    "specifity=[]\n",
    "precision= []\n",
    "mcc=[]\n",
    "f1=[]\n",
    "npv=[]\n",
    "accuracyt= recalli=specifityi=precisioni=mcci = 0.0\n",
    "for i in 1:5\n",
    "    #setseed(i);\n",
    "    #wa = winit(HIDDENSSEP...);\n",
    "    #wb = winit(HIDDENSSEP...);\n",
    "    #wMerged = winit(HIDDENSMER...);\n",
    "    #w = vcat(wa, wb, wMerged);\n",
    "    w = deepcopy(wl)\n",
    "    #dtrn, ddev, dtst = dividedataset(concatAB, ygold, trnper, devper, tstper; batchsize= BATCHSIZE);\n",
    "    dtrn, dtst = trn_tst_split(pylori_dataset,pylori_label, trnper, tstper; batchsize= BATCHSIZE);\n",
    "    \n",
    "    optims = params(w; optim=\"Momentum\", lr=0.01, gamma=0.9);\n",
    "    #@time trnloss, trnerr, tstloss, tsterr=trainSep!(w, optims, dtrn, predictSep, ddev; pdrop=PDROP, epochs=NOEPOCH) \n",
    "    @time trainSep!(w, optims, dtrn, predictSep, dtst; pdrop=PDROP, epochs=NOEPOCH) \n",
    "    \n",
    "    println(\"Yeast Dataset, fold: \", i)\n",
    "    println(\"Training: min. loss =\",loss(w,dtrn,predictSep),\", min. error =\",zeroone(w,dtrn,predictSep))  \n",
    "    println(\"Test: min. loss =\",loss(w,dtst,predictSep),\", min. error =\",zeroone(w,dtst,predictSep))  \n",
    "    \n",
    "    accuracyt,recalli,specifityi,precisioni,mcci,f1i,npvi = modelevaluation(w, dtst, predictSep; p=true);\n",
    "    push!(accuracy_, accuracyt)\n",
    "    push!(recall, recalli)\n",
    "    push!(specifity, specifityi)\n",
    "    push!(precision, precisioni)\n",
    "    push!(mcc, mcci)\n",
    "    push!(f1, f1i)\n",
    "    push!(npv, npvi)\n",
    "    \n",
    "end"
   ]
  },
  {
   "cell_type": "code",
   "execution_count": 12,
   "metadata": {
    "collapsed": true
   },
   "outputs": [],
   "source": [
    "open(\"DeepPPI-PyloriDataset_Scores.txt\", \"w\") do f\n",
    "    write(f, \"Dataset \\tAccuracy\\t\\t\\tPrecision\\t\\t\\tnpv      \\t\\t\\tRecall   \\t\\t\\tSpecifity\\t\\t\\tMCC\\n\")\n",
    "    write(f, \"__________________________________________________________________________________________________________________________________\\n\")\n",
    "    for i in 1:5\n",
    "        write(f, \"dataset\"*string(i)*\"\\t\"*string(accuracy_[i]) *\"\\t\"* string(precision[i]) *\"\\t\"* string(npv[i]) *\"\\t\"* string(recall[i]) *\"\\t\"*  string(specifity[i]) *\"\\t\"*  string(mcc[i]) *\"\\n\")\n",
    "    end\n",
    "    write(f, \"__________________________________________________________________________________________________________________________________\\n\")\n",
    "    write(f, \"Average\"*\"\\t\\t\"*string(mean(accuracy_)) *\"\\t\"* string(mean(precision))  *\"\\t\"* string(mean(npv)) *\"\\t\"* string(mean(recall)) *\"\\t\"*  string(mean(specifity)) *\"\\t\"*  string(mean(mcc)) *\"\\n\")\n",
    "end;"
   ]
  },
  {
   "cell_type": "markdown",
   "metadata": {},
   "source": [
    "# Human Dataset"
   ]
  },
  {
   "cell_type": "code",
   "execution_count": 13,
   "metadata": {},
   "outputs": [
    {
     "name": "stdout",
     "output_type": "stream",
     "text": [
      "Num of dropped positive sample: 0 , Num of dropped negative sample: 0\n"
     ]
    }
   ],
   "source": [
    "human_feature=\"test_datasets/Human/human_feature.csv\"\n",
    "human_protein=\"test_datasets/Human/human_protein.csv\"\n",
    "human_dataset,human_label=loaddata(human_feature,human_protein,3899,4262);"
   ]
  },
  {
   "cell_type": "code",
   "execution_count": 14,
   "metadata": {},
   "outputs": [
    {
     "name": "stdout",
     "output_type": "stream",
     "text": [
      "(:epoch, 10, :trn, 0.9951822916666666, :tst, 0.9706431606359649)\n",
      "(:epoch, 20, :trn, 0.9986979166666666, :tst, 0.9745494106359649)\n",
      "(:epoch, 30, :trn, 0.9998372395833334, :tst, 0.97265625)\n",
      " 59.254573 seconds (5.49 M allocations: 28.666 GiB, 5.21% gc time)\n",
      "Human Dataset, fold: 1\n",
      "Training: min. loss =0.0023086087, min. error =0.00016276041666662966\n",
      "Test: min. loss =0.15141505, min. error =0.02734375\n",
      "TP: 923 , TN: 1062 , FP: 51 , FN: 5\n",
      "Model evaluation:\n",
      "Accuracy : 0.9725624689012432\n",
      "Precision : 0.9476386027231637\n",
      "NPV : 0.9953139634533139\n",
      "Sensitivity / Recall : 0.994612067893737\n",
      "Specifity : 0.9541778967168212\n",
      "MCC : 0.9458667641467686\n",
      "F1 : 0.9705573075864578\n",
      "(:epoch, 10, :trn, 0.99755859375, :tst, 0.9779673793859649)\n",
      "(:epoch, 20, :trn, 0.9954427083333334, :tst, 0.9613658168859649)\n",
      "(:epoch, 30, :trn, 0.9996744791666666, :tst, 0.9755259731359649)\n",
      " 59.820012 seconds (5.49 M allocations: 28.666 GiB, 5.17% gc time)\n",
      "Human Dataset, fold: 2\n",
      "Training: min. loss =0.0011807407, min. error =0.00032552083333337034\n",
      "Test: min. loss =0.20146753, min. error =0.024474026864035103\n",
      "TP: 936 , TN: 1055 , FP: 38 , FN: 12\n",
      "Model evaluation:\n",
      "Accuracy : 0.9755022043236148\n",
      "Precision : 0.9609856252967294\n",
      "NPV : 0.9887535136000435\n",
      "Sensitivity / Recall : 0.987341771110399\n",
      "Specifity : 0.9652333019531258\n",
      "MCC : 0.9511560509582946\n",
      "F1 : 0.9739854313350752\n",
      "(:epoch, 10, :trn, 0.9970703125, :tst, 0.9729646381578947)\n",
      "(:epoch, 20, :trn, 0.9988606770833334, :tst, 0.9713798656798246)\n",
      "(:epoch, 30, :trn, 0.9998372395833334, :tst, 0.9778474506578947)\n",
      " 59.371878 seconds (5.49 M allocations: 28.666 GiB, 5.23% gc time)\n",
      "Human Dataset, fold: 3\n",
      "Training: min. loss =0.001185713, min. error =0.00016276041666662966\n",
      "Test: min. loss =0.14351843, min. error =0.02215254934210531\n",
      "TP: 920 , TN: 1076 , FP: 36 , FN: 9\n",
      "Model evaluation:\n",
      "Accuracy : 0.9779519838422577\n",
      "Precision : 0.9623430952276746\n",
      "NPV : 0.9917050682104099\n",
      "Sensitivity / Recall : 0.9903121625507942\n",
      "Specifity : 0.9676258984104082\n",
      "MCC : 0.955991135645497\n",
      "F1 : 0.9761273204370676\n",
      "(:epoch, 10, :trn, 0.9972330729166666, :tst, 0.9738812362938597)\n",
      "(:epoch, 20, :trn, 0.9993489583333334, :tst, 0.9714398300438597)\n",
      "(:epoch, 30, :trn, 0.9996744791666666, :tst, 0.9772992050438597)\n",
      " 59.557444 seconds (5.49 M allocations: 28.666 GiB, 5.22% gc time)\n",
      "Human Dataset, fold: 4\n",
      "Training: min. loss =0.0010634382, min. error =0.00032552083333337034\n",
      "Test: min. loss =0.12613791, min. error =0.022700794956140302\n",
      "TP: 964 , TN: 1031 , FP: 41 , FN: 5\n",
      "Model evaluation:\n",
      "Accuracy : 0.9774620279385291\n",
      "Precision : 0.9592039791450707\n",
      "NPV : 0.9951737442131526\n",
      "Sensitivity / Recall : 0.9948400402530031\n",
      "Specifity : 0.9617537304461251\n",
      "MCC : 0.9554851064902544\n",
      "F1 : 0.9766970613086641\n",
      "(:epoch, 10, :trn, 0.9972330729166666, :tst, 0.9714398300438597)\n",
      "(:epoch, 20, :trn, 0.9996744791666666, :tst, 0.9758343612938597)\n",
      "(:epoch, 30, :trn, 0.9998372395833334, :tst, 0.9803488212719298)\n",
      " 59.566120 seconds (5.49 M allocations: 28.666 GiB, 5.21% gc time)\n",
      "Human Dataset, fold: 5\n",
      "Training: min. loss =0.0015500406, min. error =0.00016276041666662966\n",
      "Test: min. loss =0.16493739, min. error =0.019651178728070207\n",
      "TP: 971 , TN: 1030 , FP: 31 , FN: 9\n",
      "Model evaluation:\n",
      "Accuracy : 0.9804017633609006\n",
      "Precision : 0.9690618752803773\n",
      "NPV : 0.9913378238774418\n",
      "Sensitivity / Recall : 0.9908163255195752\n",
      "Specifity : 0.9707822799521373\n",
      "MCC : 0.9609989672736633\n",
      "F1 : 0.9798183647932298\n"
     ]
    }
   ],
   "source": [
    "# the number of hidden units in the hidden layers of the DeepPPI-CON model\n",
    "HIDDENSSEP = Any[NOINPUTS, 512, 256, 128]; \n",
    "HIDDENSMER = Any[256, 128, NOOUTPUTS]\n",
    "NOEPOCH = 30;\n",
    "BATCHSIZE = 64;\n",
    "PDROP = (0, 0.2);\n",
    "\n",
    "accuracy_ =[]\n",
    "recall=[]\n",
    "specifity=[]\n",
    "precision= []\n",
    "mcc=[]\n",
    "f1=[]\n",
    "npv=[]\n",
    "accuracyt= recalli=specifityi=precisioni=mcci = 0.0\n",
    "for i in 1:5\n",
    "    #setseed(i);\n",
    "    #wa = winit(HIDDENSSEP...);\n",
    "    #wb = winit(HIDDENSSEP...);\n",
    "    #wMerged = winit(HIDDENSMER...);\n",
    "    #w = vcat(wa, wb, wMerged);\n",
    "    w = deepcopy(wl)\n",
    "    #dtrn, ddev, dtst = dividedataset(concatAB, ygold, trnper, devper, tstper; batchsize= BATCHSIZE);\n",
    "    dtrn, dtst = trn_tst_split(human_dataset,human_label, trnper, tstper; batchsize= BATCHSIZE);\n",
    "    \n",
    "    optims = params(w; optim=\"Momentum\", lr=0.01, gamma=0.9);\n",
    "    #@time trnloss, trnerr, tstloss, tsterr=trainSep!(w, optims, dtrn, predictSep, ddev; pdrop=PDROP, epochs=NOEPOCH) \n",
    "    @time trainSep!(w, optims, dtrn, predictSep, dtst; pdrop=PDROP, epochs=NOEPOCH) \n",
    "    \n",
    "    println(\"Human Dataset, fold: \", i)\n",
    "    println(\"Training: min. loss =\",loss(w,dtrn,predictSep),\", min. error =\",zeroone(w,dtrn,predictSep))  \n",
    "    println(\"Test: min. loss =\",loss(w,dtst,predictSep),\", min. error =\",zeroone(w,dtst,predictSep))  \n",
    "    \n",
    "    accuracyt,recalli,specifityi,precisioni,mcci,f1i,npvi = modelevaluation(w, dtst, predictSep; p=true);\n",
    "    push!(accuracy_, accuracyt)\n",
    "    push!(recall, recalli)\n",
    "    push!(specifity, specifityi)\n",
    "    push!(precision, precisioni)\n",
    "    push!(mcc, mcci)\n",
    "    push!(f1, f1i)\n",
    "    push!(npv, npvi)\n",
    "    \n",
    "end"
   ]
  },
  {
   "cell_type": "code",
   "execution_count": 15,
   "metadata": {
    "collapsed": true
   },
   "outputs": [],
   "source": [
    "open(\"DeepPPI-HumanDataset_Scores.txt\", \"w\") do f\n",
    "    write(f, \"Dataset \\tAccuracy\\t\\t\\tPrecision\\t\\t\\tnpv      \\t\\t\\tRecall   \\t\\t\\tSpecifity\\t\\t\\tMCC\\n\")\n",
    "    write(f, \"__________________________________________________________________________________________________________________________________\\n\")\n",
    "    for i in 1:5\n",
    "        write(f, \"dataset\"*string(i)*\"\\t\"*string(accuracy_[i]) *\"\\t\"* string(precision[i]) *\"\\t\"* string(npv[i]) *\"\\t\"* string(recall[i]) *\"\\t\"*  string(specifity[i]) *\"\\t\"*  string(mcc[i]) *\"\\n\")\n",
    "    end\n",
    "    write(f, \"__________________________________________________________________________________________________________________________________\\n\")\n",
    "    write(f, \"Average\"*\"\\t\\t\"*string(mean(accuracy_)) *\"\\t\"* string(mean(precision))  *\"\\t\"* string(mean(npv)) *\"\\t\"* string(mean(recall)) *\"\\t\"*  string(mean(specifity)) *\"\\t\"*  string(mean(mcc)) *\"\\n\")\n",
    "end;"
   ]
  },
  {
   "cell_type": "markdown",
   "metadata": {},
   "source": [
    "## Base model"
   ]
  },
  {
   "cell_type": "code",
   "execution_count": 19,
   "metadata": {
    "collapsed": true
   },
   "outputs": [],
   "source": [
    "dtrnyeast, dtstyeast = trn_tst_split(yeast_dataset, yeast_label, 1.0, 0; batchsize= 64);\n",
    "dtrnhuman, dtsthuman = trn_tst_split(human_dataset,human_label, 1.0, 0; batchsize= 64);\n",
    "dtrnpylori, dtstpylori = trn_tst_split(pylori_dataset,pylori_label, 1.0, 0; batchsize= 64);"
   ]
  },
  {
   "cell_type": "code",
   "execution_count": 20,
   "metadata": {},
   "outputs": [
    {
     "name": "stdout",
     "output_type": "stream",
     "text": [
      "0.44370879120879125\n",
      "5.358826\n",
      "TP: 3845 , TN: 1119 , FP: 1749 , FN: 4475\n",
      "Model evaluation:\n",
      "Accuracy : 0.44368966746123617\n",
      "Precision : 0.6873435822868531\n",
      "NPV : 0.20003575255630393\n",
      "Sensitivity / Recall : 0.46213942302137745\n",
      "Specifity : 0.3901673638806948\n",
      "MCC : -0.12897018203148128\n",
      "F1 : 0.5526807531584964\n"
     ]
    }
   ],
   "source": [
    "# Training Set\n",
    "trnacc = 0;\n",
    "for (x, y) in dtrnyeast\n",
    "    ypred = predictSep(wl,x)\n",
    "    trnacc += accuracyi(ypred, y) \n",
    "end\n",
    "println(trnacc/length(dtrnyeast));\n",
    "println(loss(wl, dtrnyeast, predictSep));\n",
    "modelevaluation(wl, dtrnyeast, predictSep; p=true);"
   ]
  },
  {
   "cell_type": "code",
   "execution_count": 21,
   "metadata": {},
   "outputs": [
    {
     "name": "stdout",
     "output_type": "stream",
     "text": [
      "0.5007583155776515\n",
      "4.3179364\n",
      "TP: 2892 , TN: 1198 , FP: 1007 , FN: 3064\n",
      "Model evaluation:\n",
      "Accuracy : 0.5011640729688562\n",
      "Precision : 0.7417286481811417\n",
      "NPV : 0.28108869068956155\n",
      "Sensitivity / Recall : 0.48556077896481514\n",
      "Specifity : 0.5433106573499725\n",
      "MCC : 0.025666502702106\n",
      "F1 : 0.5869101978095475\n"
     ]
    }
   ],
   "source": [
    "# Training Set\n",
    "trnacc = 0;\n",
    "for (x, y) in dtrnhuman\n",
    "    ypred = predictSep(wl,x)\n",
    "    trnacc += accuracyi(ypred, y) \n",
    "end\n",
    "println(trnacc/length(dtrnhuman));\n",
    "println(loss(wl, dtrnhuman, predictSep));\n",
    "modelevaluation(wl, dtrnhuman, predictSep; p=true);"
   ]
  },
  {
   "cell_type": "code",
   "execution_count": 22,
   "metadata": {},
   "outputs": [
    {
     "name": "stdout",
     "output_type": "stream",
     "text": [
      "0.4670516304347826\n",
      "4.8245883\n",
      "TP: 976 , TN: 368 , FP: 482 , FN: 1056\n",
      "Model evaluation:\n",
      "Accuracy : 0.46634281732604344\n",
      "Precision : 0.6694101504325033\n",
      "NPV : 0.2584269661106552\n",
      "Sensitivity / Recall : 0.48031496039354576\n",
      "Specifity : 0.43294117596124565\n",
      "MCC : -0.079118185099487\n",
      "F1 : 0.559312320756644\n"
     ]
    }
   ],
   "source": [
    "# Training Set\n",
    "trnacc = 0;\n",
    "for (x, y) in dtrnpylori\n",
    "    ypred = predictSep(wl,x)\n",
    "    trnacc += accuracyi(ypred, y) \n",
    "end\n",
    "println(trnacc/length(dtrnpylori));\n",
    "println(loss(wl, dtrnpylori, predictSep));\n",
    "modelevaluation(wl, dtrnpylori, predictSep; p=true);"
   ]
  }
 ],
 "metadata": {
  "kernelspec": {
   "display_name": "Julia 0.6.2",
   "language": "julia",
   "name": "julia-0.6"
  },
  "language_info": {
   "file_extension": ".jl",
   "mimetype": "application/julia",
   "name": "julia",
   "version": "0.6.2"
  }
 },
 "nbformat": 4,
 "nbformat_minor": 2
}
